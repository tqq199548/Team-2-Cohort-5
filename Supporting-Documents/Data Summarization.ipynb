{
 "cells": [
  {
   "cell_type": "code",
   "execution_count": 8,
   "metadata": {},
   "outputs": [
    {
     "name": "stdout",
     "output_type": "stream",
     "text": [
      "['flat-ui__data-Tue Mar 11 2025.csv']\n"
     ]
    }
   ],
   "source": [
    "import os\n",
    "\n",
    "# Define the folder where your CSV file should be located\n",
    "folder_path = r\"C:\\Users\\tianc\\dsihomework\\Team 2\\Team-2-Cohort-5\\Data\"\n",
    "\n",
    "# List all files in the directory\n",
    "files = os.listdir(folder_path)\n",
    "\n",
    "# Display the files in the folder\n",
    "print(files)\n"
   ]
  },
  {
   "cell_type": "code",
   "execution_count": 9,
   "metadata": {},
   "outputs": [
    {
     "name": "stdout",
     "output_type": "stream",
     "text": [
      "  LOCATION  TIME  PC_HEALTHXP  PC_GDP  USD_CAP  TOTAL_SPEND\n",
      "0      AUS  1971       15.992   0.726   33.990       439.73\n",
      "1      AUS  1972       15.091   0.685   34.184       450.44\n",
      "2      AUS  1973       15.117   0.681   37.956       507.85\n",
      "3      AUS  1974       14.771   0.754   45.338       622.17\n",
      "4      AUS  1975       11.849   0.682   44.363       616.34\n"
     ]
    }
   ],
   "source": [
    "import pandas as pd\n",
    "\n",
    "# Define the full file path\n",
    "file_path = r\"C:\\Users\\tianc\\dsihomework\\Team 2\\Team-2-Cohort-5\\Data\\flat-ui__data-Tue Mar 11 2025.csv\"\n",
    "\n",
    "# Load the CSV file\n",
    "df = pd.read_csv(file_path)\n",
    "\n",
    "# Display the first few rows to confirm successful loading\n",
    "print(df.head())\n"
   ]
  },
  {
   "cell_type": "code",
   "execution_count": 13,
   "metadata": {},
   "outputs": [
    {
     "name": "stdout",
     "output_type": "stream",
     "text": [
      "                                            Question  \\\n",
      "0            How many countries are in this dataset?   \n",
      "1                How many years are in this dataset?   \n",
      "2            What is the year range of this dataset?   \n",
      "3  What is the total number of observations in th...   \n",
      "4  What is the total number of possible observati...   \n",
      "5                       How many values are missing?   \n",
      "\n",
      "                                       Analysis  \n",
      "0       There are 44 countries in this dataset.  \n",
      "1           There are 53 years in this dataset.  \n",
      "2  The data ranges from the years 1970 to 2022.  \n",
      "3  There are 1341 observations in this dataset.  \n",
      "4         There are 2332 possible observations.  \n",
      "5    There are 0 missing values in the dataset.  \n"
     ]
    }
   ],
   "source": [
    "import pandas as pd\n",
    "\n",
    "# Load dataset (Update the file path as needed)\n",
    "file_path = r\"C:\\Users\\tianc\\dsihomework\\Team 2\\Team-2-Cohort-5\\Data\\flat-ui__data-Tue Mar 11 2025.csv\"\n",
    "df = pd.read_csv(file_path)\n",
    "\n",
    "# Count the number of unique countries\n",
    "num_countries = df[\"LOCATION\"].nunique()\n",
    "\n",
    "# Count the number of unique years\n",
    "num_years = df[\"TIME\"].nunique()\n",
    "\n",
    "# Determine the year range\n",
    "year_min = df[\"TIME\"].min()\n",
    "year_max = df[\"TIME\"].max()\n",
    "\n",
    "# Count the total number of observations\n",
    "total_observations = df.shape[0]\n",
    "\n",
    "# Calculate the total possible observations (num_countries * num_years)\n",
    "total_possible_observations = num_countries * num_years\n",
    "\n",
    "# Count the number of missing values\n",
    "missing_values = df.isnull().sum().sum()\n",
    "\n",
    "# Creating a summary table\n",
    "summary_data = {\n",
    "    \"Question\": [\n",
    "        \"How many countries are in this dataset?\",\n",
    "        \"How many years are in this dataset?\",\n",
    "        \"What is the year range of this dataset?\",\n",
    "        \"What is the total number of observations in the dataset?\",\n",
    "        \"What is the total number of possible observations?\",\n",
    "        \"How many values are missing?\"\n",
    "    ],\n",
    "    \"Analysis\": [\n",
    "        f\"There are {num_countries} countries in this dataset.\",\n",
    "        f\"There are {num_years} years in this dataset.\",\n",
    "        f\"The data ranges from the years {year_min} to {year_max}.\",\n",
    "        f\"There are {total_observations} observations in this dataset.\",\n",
    "        f\"There are {total_possible_observations} possible observations.\",\n",
    "        f\"There are {missing_values} missing values in the dataset.\"\n",
    "    ]\n",
    "}\n",
    "\n",
    "# Convert to DataFrame for easy viewing\n",
    "summary_df = pd.DataFrame(summary_data)\n",
    "\n",
    "# Display the summary\n",
    "print(summary_df)\n",
    "\n"
   ]
  },
  {
   "cell_type": "code",
   "execution_count": 15,
   "metadata": {},
   "outputs": [
    {
     "name": "stdout",
     "output_type": "stream",
     "text": [
      "Collecting tabulate\n",
      "  Downloading tabulate-0.9.0-py3-none-any.whl.metadata (34 kB)\n",
      "Downloading tabulate-0.9.0-py3-none-any.whl (35 kB)\n",
      "Installing collected packages: tabulate\n",
      "Successfully installed tabulate-0.9.0\n",
      "Note: you may need to restart the kernel to use updated packages.\n"
     ]
    }
   ],
   "source": [
    "pip install tabulate\n"
   ]
  },
  {
   "cell_type": "code",
   "execution_count": 16,
   "metadata": {},
   "outputs": [
    {
     "name": "stdout",
     "output_type": "stream",
     "text": [
      "| Question                                                 | Analysis                                     |\n",
      "|:---------------------------------------------------------|:---------------------------------------------|\n",
      "| How many countries are in this dataset?                  | There are 44 countries in this dataset.      |\n",
      "| How many years are in this dataset?                      | There are 53 years in this dataset.          |\n",
      "| What is the year range of this dataset?                  | The data ranges from the years 1970 to 2022. |\n",
      "| What is the total number of observations in the dataset? | There are 1341 observations in this dataset. |\n",
      "| What is the total number of possible observations?       | There are 2332 possible observations.        |\n",
      "| How many values are missing?                             | There are 0 missing values in the dataset.   |\n"
     ]
    }
   ],
   "source": [
    "# Convert DataFrame to Markdown table format\n",
    "markdown_table = summary_df.to_markdown(index=False)\n",
    "\n",
    "# Print the Markdown table (Copy this output to README.md)\n",
    "print(markdown_table)\n"
   ]
  },
  {
   "cell_type": "code",
   "execution_count": 20,
   "metadata": {},
   "outputs": [
    {
     "data": {
      "application/vnd.plotly.v1+json": {
       "config": {
        "plotlyServerURL": "https://plot.ly"
       },
       "data": [
        {
         "coloraxis": "coloraxis",
         "geo": "geo",
         "hovertemplate": "<b>%{hovertext}</b><br><br>TIME=1971<br>LOCATION=%{location}<br>Pharma Spending Per Capita (USD)=%{z}<extra></extra>",
         "hovertext": [
          "AUS",
          "BEL",
          "CAN",
          "DEU",
          "FIN",
          "GBR",
          "ISL",
          "KOR",
          "NOR",
          "NZL",
          "SWE"
         ],
         "locationmode": "ISO-3",
         "locations": [
          "AUS",
          "BEL",
          "CAN",
          "DEU",
          "FIN",
          "GBR",
          "ISL",
          "KOR",
          "NOR",
          "NZL",
          "SWE"
         ],
         "name": "",
         "type": "choropleth",
         "z": [
          33.99,
          46.626,
          36.13,
          48.392,
          24.95,
          21.457,
          38.402,
          3.628,
          14.239,
          25.961,
          23.808
         ]
        }
       ],
       "frames": [
        {
         "data": [
          {
           "coloraxis": "coloraxis",
           "geo": "geo",
           "hovertemplate": "<b>%{hovertext}</b><br><br>TIME=1971<br>LOCATION=%{location}<br>Pharma Spending Per Capita (USD)=%{z}<extra></extra>",
           "hovertext": [
            "AUS",
            "BEL",
            "CAN",
            "DEU",
            "FIN",
            "GBR",
            "ISL",
            "KOR",
            "NOR",
            "NZL",
            "SWE"
           ],
           "locationmode": "ISO-3",
           "locations": [
            "AUS",
            "BEL",
            "CAN",
            "DEU",
            "FIN",
            "GBR",
            "ISL",
            "KOR",
            "NOR",
            "NZL",
            "SWE"
           ],
           "name": "",
           "type": "choropleth",
           "z": [
            33.99,
            46.626,
            36.13,
            48.392,
            24.95,
            21.457,
            38.402,
            3.628,
            14.239,
            25.961,
            23.808
           ]
          }
         ],
         "name": "1971"
        },
        {
         "data": [
          {
           "coloraxis": "coloraxis",
           "geo": "geo",
           "hovertemplate": "<b>%{hovertext}</b><br><br>TIME=1972<br>LOCATION=%{location}<br>Pharma Spending Per Capita (USD)=%{z}<extra></extra>",
           "hovertext": [
            "AUS",
            "BEL",
            "CAN",
            "DEU",
            "FIN",
            "GBR",
            "ISL",
            "KOR",
            "NLD",
            "NOR",
            "SWE"
           ],
           "locationmode": "ISO-3",
           "locations": [
            "AUS",
            "BEL",
            "CAN",
            "DEU",
            "FIN",
            "GBR",
            "ISL",
            "KOR",
            "NLD",
            "NOR",
            "SWE"
           ],
           "name": "",
           "type": "choropleth",
           "z": [
            34.184,
            51.474,
            37.076,
            53.476,
            28.063,
            23.051,
            43.415,
            3.754,
            36.08,
            14.915,
            28.143
           ]
          }
         ],
         "name": "1972"
        },
        {
         "data": [
          {
           "coloraxis": "coloraxis",
           "geo": "geo",
           "hovertemplate": "<b>%{hovertext}</b><br><br>TIME=1973<br>LOCATION=%{location}<br>Pharma Spending Per Capita (USD)=%{z}<extra></extra>",
           "hovertext": [
            "AUS",
            "BEL",
            "CAN",
            "DEU",
            "FIN",
            "GBR",
            "ISL",
            "KOR",
            "NLD",
            "NOR",
            "SWE"
           ],
           "locationmode": "ISO-3",
           "locations": [
            "AUS",
            "BEL",
            "CAN",
            "DEU",
            "FIN",
            "GBR",
            "ISL",
            "KOR",
            "NLD",
            "NOR",
            "SWE"
           ],
           "name": "",
           "type": "choropleth",
           "z": [
            37.956,
            61.827,
            40.128,
            58.791,
            29.563,
            24.357,
            42.803,
            3.853,
            38.209,
            16.755,
            33.528
           ]
          }
         ],
         "name": "1973"
        },
        {
         "data": [
          {
           "coloraxis": "coloraxis",
           "geo": "geo",
           "hovertemplate": "<b>%{hovertext}</b><br><br>TIME=1974<br>LOCATION=%{location}<br>Pharma Spending Per Capita (USD)=%{z}<extra></extra>",
           "hovertext": [
            "AUS",
            "BEL",
            "CAN",
            "DEU",
            "FIN",
            "GBR",
            "ISL",
            "KOR",
            "NLD",
            "NOR",
            "SWE"
           ],
           "locationmode": "ISO-3",
           "locations": [
            "AUS",
            "BEL",
            "CAN",
            "DEU",
            "FIN",
            "GBR",
            "ISL",
            "KOR",
            "NLD",
            "NOR",
            "SWE"
           ],
           "name": "",
           "type": "choropleth",
           "z": [
            45.338,
            68.928,
            42.13,
            67.371,
            32.696,
            29.428,
            46.62,
            3.826,
            41.167,
            19.766,
            37.792
           ]
          }
         ],
         "name": "1974"
        },
        {
         "data": [
          {
           "coloraxis": "coloraxis",
           "geo": "geo",
           "hovertemplate": "<b>%{hovertext}</b><br><br>TIME=1975<br>LOCATION=%{location}<br>Pharma Spending Per Capita (USD)=%{z}<extra></extra>",
           "hovertext": [
            "AUS",
            "BEL",
            "CAN",
            "DEU",
            "FIN",
            "FRA",
            "GBR",
            "IRL",
            "ISL",
            "KOR",
            "NLD",
            "NOR",
            "SWE"
           ],
           "locationmode": "ISO-3",
           "locations": [
            "AUS",
            "BEL",
            "CAN",
            "DEU",
            "FIN",
            "FRA",
            "GBR",
            "IRL",
            "ISL",
            "KOR",
            "NLD",
            "NOR",
            "SWE"
           ],
           "name": "",
           "type": "choropleth",
           "z": [
            44.363,
            73.393,
            45.427,
            76.314,
            36.768,
            75.415,
            28.643,
            37.2,
            58.281,
            6.505,
            44.807,
            23.276,
            42.964
           ]
          }
         ],
         "name": "1975"
        },
        {
         "data": [
          {
           "coloraxis": "coloraxis",
           "geo": "geo",
           "hovertemplate": "<b>%{hovertext}</b><br><br>TIME=1976<br>LOCATION=%{location}<br>Pharma Spending Per Capita (USD)=%{z}<extra></extra>",
           "hovertext": [
            "AUS",
            "BEL",
            "CAN",
            "DEU",
            "FIN",
            "GBR",
            "IRL",
            "ISL",
            "KOR",
            "LUX",
            "NLD",
            "NOR",
            "NZL",
            "SWE"
           ],
           "locationmode": "ISO-3",
           "locations": [
            "AUS",
            "BEL",
            "CAN",
            "DEU",
            "FIN",
            "GBR",
            "IRL",
            "ISL",
            "KOR",
            "LUX",
            "NLD",
            "NOR",
            "NZL",
            "SWE"
           ],
           "name": "",
           "type": "choropleth",
           "z": [
            44.34,
            72.63,
            48.668,
            84.135,
            40.974,
            32.064,
            38.899,
            56.601,
            7.968,
            60.128,
            46.871,
            25.372,
            43.188,
            45.505
           ]
          }
         ],
         "name": "1976"
        },
        {
         "data": [
          {
           "coloraxis": "coloraxis",
           "geo": "geo",
           "hovertemplate": "<b>%{hovertext}</b><br><br>TIME=1977<br>LOCATION=%{location}<br>Pharma Spending Per Capita (USD)=%{z}<extra></extra>",
           "hovertext": [
            "AUS",
            "BEL",
            "CAN",
            "DEU",
            "FIN",
            "GBR",
            "IRL",
            "ISL",
            "KOR",
            "LUX",
            "NLD",
            "NOR",
            "PRT",
            "SWE"
           ],
           "locationmode": "ISO-3",
           "locations": [
            "AUS",
            "BEL",
            "CAN",
            "DEU",
            "FIN",
            "GBR",
            "IRL",
            "ISL",
            "KOR",
            "LUX",
            "NLD",
            "NOR",
            "PRT",
            "SWE"
           ],
           "name": "",
           "type": "choropleth",
           "z": [
            45.407,
            81.649,
            51.69,
            89.661,
            44.422,
            35.612,
            41.409,
            65.76,
            8.546,
            63.006,
            49.722,
            26.816,
            32.726,
            49.96
           ]
          }
         ],
         "name": "1977"
        },
        {
         "data": [
          {
           "coloraxis": "coloraxis",
           "geo": "geo",
           "hovertemplate": "<b>%{hovertext}</b><br><br>TIME=1978<br>LOCATION=%{location}<br>Pharma Spending Per Capita (USD)=%{z}<extra></extra>",
           "hovertext": [
            "AUS",
            "BEL",
            "CAN",
            "DEU",
            "FIN",
            "GBR",
            "IRL",
            "ISL",
            "KOR",
            "LUX",
            "NLD",
            "NOR",
            "PRT",
            "SWE"
           ],
           "locationmode": "ISO-3",
           "locations": [
            "AUS",
            "BEL",
            "CAN",
            "DEU",
            "FIN",
            "GBR",
            "IRL",
            "ISL",
            "KOR",
            "LUX",
            "NLD",
            "NOR",
            "PRT",
            "SWE"
           ],
           "name": "",
           "type": "choropleth",
           "z": [
            48.127,
            89.427,
            55.495,
            101.799,
            48.256,
            40.438,
            48.617,
            80.924,
            11.123,
            74.606,
            54.18,
            27.906,
            43.584,
            52.146
           ]
          }
         ],
         "name": "1978"
        },
        {
         "data": [
          {
           "coloraxis": "coloraxis",
           "geo": "geo",
           "hovertemplate": "<b>%{hovertext}</b><br><br>TIME=1979<br>LOCATION=%{location}<br>Pharma Spending Per Capita (USD)=%{z}<extra></extra>",
           "hovertext": [
            "AUS",
            "BEL",
            "CAN",
            "DEU",
            "FIN",
            "GBR",
            "IRL",
            "ISL",
            "KOR",
            "LUX",
            "NLD",
            "NOR",
            "PRT",
            "SWE"
           ],
           "locationmode": "ISO-3",
           "locations": [
            "AUS",
            "BEL",
            "CAN",
            "DEU",
            "FIN",
            "GBR",
            "IRL",
            "ISL",
            "KOR",
            "LUX",
            "NLD",
            "NOR",
            "PRT",
            "SWE"
           ],
           "name": "",
           "type": "choropleth",
           "z": [
            47.307,
            97.873,
            62.866,
            111.144,
            52.02,
            44.467,
            52.105,
            92.839,
            16.948,
            83.703,
            58.294,
            30.409,
            47.875,
            57.024
           ]
          }
         ],
         "name": "1979"
        },
        {
         "data": [
          {
           "coloraxis": "coloraxis",
           "geo": "geo",
           "hovertemplate": "<b>%{hovertext}</b><br><br>TIME=1980<br>LOCATION=%{location}<br>Pharma Spending Per Capita (USD)=%{z}<extra></extra>",
           "hovertext": [
            "AUS",
            "BEL",
            "CAN",
            "DEU",
            "DNK",
            "ESP",
            "FIN",
            "FRA",
            "GBR",
            "IRL",
            "ISL",
            "JPN",
            "KOR",
            "LUX",
            "NLD",
            "NOR",
            "NZL",
            "PRT",
            "SWE"
           ],
           "locationmode": "ISO-3",
           "locations": [
            "AUS",
            "BEL",
            "CAN",
            "DEU",
            "DNK",
            "ESP",
            "FIN",
            "FRA",
            "GBR",
            "IRL",
            "ISL",
            "JPN",
            "KOR",
            "LUX",
            "NLD",
            "NOR",
            "NZL",
            "PRT",
            "SWE"
           ],
           "name": "",
           "type": "choropleth",
           "z": [
            54.875,
            102.927,
            70.739,
            126.192,
            50.227,
            72.028,
            55.273,
            108.14,
            52.095,
            55.666,
            120.025,
            113.323,
            19.307,
            93.153,
            63.144,
            67.039,
            59.362,
            53.603,
            62.649
           ]
          }
         ],
         "name": "1980"
        },
        {
         "data": [
          {
           "coloraxis": "coloraxis",
           "geo": "geo",
           "hovertemplate": "<b>%{hovertext}</b><br><br>TIME=1981<br>LOCATION=%{location}<br>Pharma Spending Per Capita (USD)=%{z}<extra></extra>",
           "hovertext": [
            "AUS",
            "BEL",
            "CAN",
            "DEU",
            "DNK",
            "ESP",
            "FIN",
            "GBR",
            "IRL",
            "ISL",
            "KOR",
            "LUX",
            "NLD",
            "NOR",
            "NZL",
            "PRT",
            "SWE",
            "TUR"
           ],
           "locationmode": "ISO-3",
           "locations": [
            "AUS",
            "BEL",
            "CAN",
            "DEU",
            "DNK",
            "ESP",
            "FIN",
            "GBR",
            "IRL",
            "ISL",
            "KOR",
            "LUX",
            "NLD",
            "NOR",
            "NZL",
            "PRT",
            "SWE",
            "TUR"
           ],
           "name": "",
           "type": "choropleth",
           "z": [
            62.73,
            107.311,
            84.104,
            141.852,
            53.591,
            77.447,
            60.427,
            58.075,
            51.754,
            128.115,
            23.16,
            102.724,
            67.711,
            73.48,
            61.063,
            56.307,
            67.801,
            9.685
           ]
          }
         ],
         "name": "1981"
        },
        {
         "data": [
          {
           "coloraxis": "coloraxis",
           "geo": "geo",
           "hovertemplate": "<b>%{hovertext}</b><br><br>TIME=1982<br>LOCATION=%{location}<br>Pharma Spending Per Capita (USD)=%{z}<extra></extra>",
           "hovertext": [
            "AUS",
            "BEL",
            "CAN",
            "DEU",
            "DNK",
            "ESP",
            "FIN",
            "GBR",
            "IRL",
            "ISL",
            "KOR",
            "LUX",
            "NLD",
            "NOR",
            "NZL",
            "PRT",
            "SWE",
            "TUR"
           ],
           "locationmode": "ISO-3",
           "locations": [
            "AUS",
            "BEL",
            "CAN",
            "DEU",
            "DNK",
            "ESP",
            "FIN",
            "GBR",
            "IRL",
            "ISL",
            "KOR",
            "LUX",
            "NLD",
            "NOR",
            "NZL",
            "PRT",
            "SWE",
            "TUR"
           ],
           "name": "",
           "type": "choropleth",
           "z": [
            65.245,
            114.228,
            90.358,
            146.128,
            59.177,
            86.325,
            63.251,
            64.976,
            54.485,
            149.004,
            25.939,
            103.473,
            74.904,
            80.154,
            68.07,
            59.903,
            74.714,
            10.331
           ]
          }
         ],
         "name": "1982"
        },
        {
         "data": [
          {
           "coloraxis": "coloraxis",
           "geo": "geo",
           "hovertemplate": "<b>%{hovertext}</b><br><br>TIME=1983<br>LOCATION=%{location}<br>Pharma Spending Per Capita (USD)=%{z}<extra></extra>",
           "hovertext": [
            "AUS",
            "BEL",
            "CAN",
            "DEU",
            "DNK",
            "ESP",
            "FIN",
            "GBR",
            "IRL",
            "ISL",
            "KOR",
            "LUX",
            "NLD",
            "NOR",
            "NZL",
            "PRT",
            "SWE",
            "TUR"
           ],
           "locationmode": "ISO-3",
           "locations": [
            "AUS",
            "BEL",
            "CAN",
            "DEU",
            "DNK",
            "ESP",
            "FIN",
            "GBR",
            "IRL",
            "ISL",
            "KOR",
            "LUX",
            "NLD",
            "NOR",
            "NZL",
            "PRT",
            "SWE",
            "TUR"
           ],
           "name": "",
           "type": "choropleth",
           "z": [
            72.629,
            122.594,
            97.554,
            156.959,
            64.287,
            86.813,
            70.139,
            71.72,
            54.89,
            179.242,
            29.488,
            106.374,
            77.52,
            86.599,
            75.853,
            62.09,
            78.556,
            10.565
           ]
          }
         ],
         "name": "1983"
        },
        {
         "data": [
          {
           "coloraxis": "coloraxis",
           "geo": "geo",
           "hovertemplate": "<b>%{hovertext}</b><br><br>TIME=1984<br>LOCATION=%{location}<br>Pharma Spending Per Capita (USD)=%{z}<extra></extra>",
           "hovertext": [
            "AUS",
            "BEL",
            "CAN",
            "DEU",
            "DNK",
            "ESP",
            "FIN",
            "GBR",
            "IRL",
            "ISL",
            "JPN",
            "KOR",
            "LUX",
            "NLD",
            "NOR",
            "NZL",
            "PRT",
            "SWE",
            "TUR"
           ],
           "locationmode": "ISO-3",
           "locations": [
            "AUS",
            "BEL",
            "CAN",
            "DEU",
            "DNK",
            "ESP",
            "FIN",
            "GBR",
            "IRL",
            "ISL",
            "JPN",
            "KOR",
            "LUX",
            "NLD",
            "NOR",
            "NZL",
            "PRT",
            "SWE",
            "TUR"
           ],
           "name": "",
           "type": "choropleth",
           "z": [
            76.085,
            121.765,
            107.828,
            170.747,
            67.987,
            82.612,
            75.603,
            79.042,
            59.536,
            164.259,
            145.151,
            31.634,
            115.811,
            87.005,
            91.848,
            80.094,
            64.674,
            80.359,
            10.054
           ]
          }
         ],
         "name": "1984"
        },
        {
         "data": [
          {
           "coloraxis": "coloraxis",
           "geo": "geo",
           "hovertemplate": "<b>%{hovertext}</b><br><br>TIME=1985<br>LOCATION=%{location}<br>Pharma Spending Per Capita (USD)=%{z}<extra></extra>",
           "hovertext": [
            "AUS",
            "BEL",
            "CAN",
            "DEU",
            "DNK",
            "ESP",
            "FIN",
            "FRA",
            "GBR",
            "IRL",
            "ISL",
            "JPN",
            "KOR",
            "LUX",
            "NLD",
            "NOR",
            "NZL",
            "PRT",
            "SWE",
            "TUR"
           ],
           "locationmode": "ISO-3",
           "locations": [
            "AUS",
            "BEL",
            "CAN",
            "DEU",
            "DNK",
            "ESP",
            "FIN",
            "FRA",
            "GBR",
            "IRL",
            "ISL",
            "JPN",
            "KOR",
            "LUX",
            "NLD",
            "NOR",
            "NZL",
            "PRT",
            "SWE",
            "TUR"
           ],
           "name": "",
           "type": "choropleth",
           "z": [
            81.784,
            135.801,
            122.028,
            185.72,
            75.963,
            93.576,
            81.96,
            165.96,
            82.486,
            63.928,
            182.192,
            147.09,
            35.477,
            128.669,
            93.786,
            96.851,
            80.634,
            96.461,
            85.978,
            9.674
           ]
          }
         ],
         "name": "1985"
        },
        {
         "data": [
          {
           "coloraxis": "coloraxis",
           "geo": "geo",
           "hovertemplate": "<b>%{hovertext}</b><br><br>TIME=1986<br>LOCATION=%{location}<br>Pharma Spending Per Capita (USD)=%{z}<extra></extra>",
           "hovertext": [
            "AUS",
            "BEL",
            "CAN",
            "DEU",
            "DNK",
            "ESP",
            "FIN",
            "GBR",
            "IRL",
            "ISL",
            "JPN",
            "KOR",
            "LUX",
            "NLD",
            "NOR",
            "NZL",
            "PRT",
            "SWE",
            "TUR"
           ],
           "locationmode": "ISO-3",
           "locations": [
            "AUS",
            "BEL",
            "CAN",
            "DEU",
            "DNK",
            "ESP",
            "FIN",
            "GBR",
            "IRL",
            "ISL",
            "JPN",
            "KOR",
            "LUX",
            "NLD",
            "NOR",
            "NZL",
            "PRT",
            "SWE",
            "TUR"
           ],
           "name": "",
           "type": "choropleth",
           "z": [
            86.545,
            148.417,
            137.551,
            199.065,
            84.952,
            92.704,
            87.041,
            87.199,
            68.507,
            206.045,
            162.442,
            39.33,
            144.592,
            103.232,
            101.53,
            96.564,
            106.653,
            91.642,
            11.917
           ]
          }
         ],
         "name": "1986"
        },
        {
         "data": [
          {
           "coloraxis": "coloraxis",
           "geo": "geo",
           "hovertemplate": "<b>%{hovertext}</b><br><br>TIME=1987<br>LOCATION=%{location}<br>Pharma Spending Per Capita (USD)=%{z}<extra></extra>",
           "hovertext": [
            "AUS",
            "BEL",
            "CAN",
            "DEU",
            "DNK",
            "ESP",
            "FIN",
            "GBR",
            "IRL",
            "ISL",
            "JPN",
            "KOR",
            "LUX",
            "NLD",
            "NOR",
            "NZL",
            "PRT",
            "SWE",
            "TUR",
            "USA"
           ],
           "locationmode": "ISO-3",
           "locations": [
            "AUS",
            "BEL",
            "CAN",
            "DEU",
            "DNK",
            "ESP",
            "FIN",
            "GBR",
            "IRL",
            "ISL",
            "JPN",
            "KOR",
            "LUX",
            "NLD",
            "NOR",
            "NZL",
            "PRT",
            "SWE",
            "TUR",
            "USA"
           ],
           "name": "",
           "type": "choropleth",
           "z": [
            90.907,
            161.07,
            150.106,
            215.973,
            86.179,
            100.816,
            95.322,
            91.868,
            73.839,
            225.963,
            185.826,
            44.306,
            164.381,
            113.058,
            107.108,
            112.83,
            125.428,
            100.65,
            13.239,
            171.834
           ]
          }
         ],
         "name": "1987"
        },
        {
         "data": [
          {
           "coloraxis": "coloraxis",
           "geo": "geo",
           "hovertemplate": "<b>%{hovertext}</b><br><br>TIME=1988<br>LOCATION=%{location}<br>Pharma Spending Per Capita (USD)=%{z}<extra></extra>",
           "hovertext": [
            "AUS",
            "BEL",
            "CAN",
            "DEU",
            "DNK",
            "ESP",
            "FIN",
            "GBR",
            "GRC",
            "IRL",
            "ISL",
            "ITA",
            "JPN",
            "KOR",
            "LUX",
            "NLD",
            "NOR",
            "NZL",
            "PRT",
            "SWE",
            "USA"
           ],
           "locationmode": "ISO-3",
           "locations": [
            "AUS",
            "BEL",
            "CAN",
            "DEU",
            "DNK",
            "ESP",
            "FIN",
            "GBR",
            "GRC",
            "IRL",
            "ISL",
            "ITA",
            "JPN",
            "KOR",
            "LUX",
            "NLD",
            "NOR",
            "NZL",
            "PRT",
            "SWE",
            "USA"
           ],
           "name": "",
           "type": "choropleth",
           "z": [
            100.971,
            183.216,
            166.34,
            236.538,
            96.266,
            117.334,
            102.523,
            100.894,
            95.012,
            79.803,
            234.682,
            242.881,
            199.967,
            52.782,
            183.43,
            120.049,
            83.498,
            125.741,
            133.84,
            98.83,
            189.545
           ]
          }
         ],
         "name": "1988"
        },
        {
         "data": [
          {
           "coloraxis": "coloraxis",
           "geo": "geo",
           "hovertemplate": "<b>%{hovertext}</b><br><br>TIME=1989<br>LOCATION=%{location}<br>Pharma Spending Per Capita (USD)=%{z}<extra></extra>",
           "hovertext": [
            "AUS",
            "BEL",
            "CAN",
            "DEU",
            "DNK",
            "ESP",
            "FIN",
            "GBR",
            "GRC",
            "IRL",
            "ISL",
            "ITA",
            "JPN",
            "KOR",
            "LUX",
            "NLD",
            "NOR",
            "NZL",
            "PRT",
            "SWE",
            "USA"
           ],
           "locationmode": "ISO-3",
           "locations": [
            "AUS",
            "BEL",
            "CAN",
            "DEU",
            "DNK",
            "ESP",
            "FIN",
            "GBR",
            "GRC",
            "IRL",
            "ISL",
            "ITA",
            "JPN",
            "KOR",
            "LUX",
            "NLD",
            "NOR",
            "NZL",
            "PRT",
            "SWE",
            "USA"
           ],
           "name": "",
           "type": "choropleth",
           "z": [
            111.925,
            195.372,
            184.661,
            236.529,
            95.463,
            134.069,
            111.299,
            109.306,
            104.155,
            91.092,
            239.008,
            261.488,
            227.937,
            67.744,
            207.18,
            126.614,
            90.746,
            136.465,
            140.35,
            121.532,
            209.722
           ]
          }
         ],
         "name": "1989"
        },
        {
         "data": [
          {
           "coloraxis": "coloraxis",
           "geo": "geo",
           "hovertemplate": "<b>%{hovertext}</b><br><br>TIME=1990<br>LOCATION=%{location}<br>Pharma Spending Per Capita (USD)=%{z}<extra></extra>",
           "hovertext": [
            "AUS",
            "AUT",
            "BEL",
            "CAN",
            "CZE",
            "DEU",
            "DNK",
            "ESP",
            "FIN",
            "FRA",
            "GBR",
            "GRC",
            "IRL",
            "ISL",
            "ITA",
            "JPN",
            "KOR",
            "LUX",
            "NLD",
            "NOR",
            "NZL",
            "PRT",
            "SWE",
            "TUR",
            "USA"
           ],
           "locationmode": "ISO-3",
           "locations": [
            "AUS",
            "AUT",
            "BEL",
            "CAN",
            "CZE",
            "DEU",
            "DNK",
            "ESP",
            "FIN",
            "FRA",
            "GBR",
            "GRC",
            "IRL",
            "ISL",
            "ITA",
            "JPN",
            "KOR",
            "LUX",
            "NLD",
            "NOR",
            "NZL",
            "PRT",
            "SWE",
            "TUR",
            "USA"
           ],
           "name": "",
           "type": "choropleth",
           "z": [
            122.156,
            150.163,
            202.058,
            202.518,
            118.867,
            253.628,
            109.862,
            152.479,
            124.446,
            252.162,
            113.364,
            115.601,
            96.086,
            220.216,
            273.02,
            233.282,
            75.144,
            220.448,
            142.348,
            104.245,
            140.639,
            159.532,
            128.534,
            33.578,
            235.469
           ]
          }
         ],
         "name": "1990"
        },
        {
         "data": [
          {
           "coloraxis": "coloraxis",
           "geo": "geo",
           "hovertemplate": "<b>%{hovertext}</b><br><br>TIME=1991<br>LOCATION=%{location}<br>Pharma Spending Per Capita (USD)=%{z}<extra></extra>",
           "hovertext": [
            "AUS",
            "AUT",
            "BEL",
            "CAN",
            "CZE",
            "DNK",
            "FIN",
            "FRA",
            "GBR",
            "GRC",
            "HUN",
            "IRL",
            "ISL",
            "ITA",
            "JPN",
            "KOR",
            "LUX",
            "NLD",
            "NOR",
            "NZL",
            "PRT",
            "SWE",
            "USA"
           ],
           "locationmode": "ISO-3",
           "locations": [
            "AUS",
            "AUT",
            "BEL",
            "CAN",
            "CZE",
            "DNK",
            "FIN",
            "FRA",
            "GBR",
            "GRC",
            "HUN",
            "IRL",
            "ISL",
            "ITA",
            "JPN",
            "KOR",
            "LUX",
            "NLD",
            "NOR",
            "NZL",
            "PRT",
            "SWE",
            "USA"
           ],
           "name": "",
           "type": "choropleth",
           "z": [
            134.997,
            158.596,
            221.636,
            219.057,
            94.247,
            120.869,
            139.657,
            275.805,
            123.888,
            135.989,
            177.438,
            100.722,
            212.391,
            290.283,
            266.744,
            79.721,
            232.561,
            152.244,
            115.539,
            150.424,
            181.97,
            135.518,
            251.462
           ]
          }
         ],
         "name": "1991"
        },
        {
         "data": [
          {
           "coloraxis": "coloraxis",
           "geo": "geo",
           "hovertemplate": "<b>%{hovertext}</b><br><br>TIME=1992<br>LOCATION=%{location}<br>Pharma Spending Per Capita (USD)=%{z}<extra></extra>",
           "hovertext": [
            "AUS",
            "AUT",
            "BEL",
            "CAN",
            "CZE",
            "DEU",
            "DNK",
            "FIN",
            "FRA",
            "GBR",
            "GRC",
            "HUN",
            "IRL",
            "ISL",
            "ITA",
            "JPN",
            "KOR",
            "NLD",
            "NOR",
            "NZL",
            "PRT",
            "SWE",
            "USA"
           ],
           "locationmode": "ISO-3",
           "locations": [
            "AUS",
            "AUT",
            "BEL",
            "CAN",
            "CZE",
            "DEU",
            "DNK",
            "FIN",
            "FRA",
            "GBR",
            "GRC",
            "HUN",
            "IRL",
            "ISL",
            "ITA",
            "JPN",
            "KOR",
            "NLD",
            "NOR",
            "NZL",
            "PRT",
            "SWE",
            "USA"
           ],
           "name": "",
           "type": "choropleth",
           "z": [
            148.927,
            168.787,
            248.41,
            241.917,
            114.227,
            310.196,
            126.264,
            148.99,
            290.913,
            140.457,
            158.029,
            180.992,
            109.326,
            221.745,
            301.412,
            275.869,
            85.532,
            174.608,
            123.026,
            159.495,
            200.361,
            155.381,
            257.468
           ]
          }
         ],
         "name": "1992"
        },
        {
         "data": [
          {
           "coloraxis": "coloraxis",
           "geo": "geo",
           "hovertemplate": "<b>%{hovertext}</b><br><br>TIME=1993<br>LOCATION=%{location}<br>Pharma Spending Per Capita (USD)=%{z}<extra></extra>",
           "hovertext": [
            "AUS",
            "AUT",
            "BEL",
            "CAN",
            "CZE",
            "DEU",
            "DNK",
            "FIN",
            "FRA",
            "GBR",
            "GRC",
            "HUN",
            "IRL",
            "ISL",
            "ITA",
            "JPN",
            "KOR",
            "NLD",
            "NOR",
            "NZL",
            "PRT",
            "SWE",
            "USA"
           ],
           "locationmode": "ISO-3",
           "locations": [
            "AUS",
            "AUT",
            "BEL",
            "CAN",
            "CZE",
            "DEU",
            "DNK",
            "FIN",
            "FRA",
            "GBR",
            "GRC",
            "HUN",
            "IRL",
            "ISL",
            "ITA",
            "JPN",
            "KOR",
            "NLD",
            "NOR",
            "NZL",
            "PRT",
            "SWE",
            "USA"
           ],
           "name": "",
           "type": "choropleth",
           "z": [
            164.472,
            180.292,
            276.285,
            258.297,
            147.174,
            280.891,
            143.142,
            155.151,
            315.667,
            154.532,
            173.091,
            198.823,
            118.811,
            216.987,
            284.56,
            296.49,
            93.46,
            190.046,
            162.161,
            174.078,
            215.912,
            170.571,
            265.437
           ]
          }
         ],
         "name": "1993"
        },
        {
         "data": [
          {
           "coloraxis": "coloraxis",
           "geo": "geo",
           "hovertemplate": "<b>%{hovertext}</b><br><br>TIME=1994<br>LOCATION=%{location}<br>Pharma Spending Per Capita (USD)=%{z}<extra></extra>",
           "hovertext": [
            "AUS",
            "AUT",
            "BEL",
            "CAN",
            "CZE",
            "DEU",
            "DNK",
            "FIN",
            "FRA",
            "GBR",
            "GRC",
            "HUN",
            "IRL",
            "ISL",
            "ITA",
            "JPN",
            "KOR",
            "LUX",
            "NLD",
            "NOR",
            "NZL",
            "PRT",
            "SWE",
            "TUR",
            "USA"
           ],
           "locationmode": "ISO-3",
           "locations": [
            "AUS",
            "AUT",
            "BEL",
            "CAN",
            "CZE",
            "DEU",
            "DNK",
            "FIN",
            "FRA",
            "GBR",
            "GRC",
            "HUN",
            "IRL",
            "ISL",
            "ITA",
            "JPN",
            "KOR",
            "LUX",
            "NLD",
            "NOR",
            "NZL",
            "PRT",
            "SWE",
            "TUR",
            "USA"
           ],
           "name": "",
           "type": "choropleth",
           "z": [
            181.941,
            190.767,
            283.138,
            267.114,
            204.86,
            292.926,
            154.562,
            167.29,
            325.216,
            168.843,
            190.818,
            220.826,
            125.914,
            235.052,
            284.259,
            299.07,
            101.429,
            227.52,
            192.769,
            155.02,
            197.089,
            224.556,
            187.679,
            56.802,
            276.718
           ]
          }
         ],
         "name": "1994"
        },
        {
         "data": [
          {
           "coloraxis": "coloraxis",
           "geo": "geo",
           "hovertemplate": "<b>%{hovertext}</b><br><br>TIME=1995<br>LOCATION=%{location}<br>Pharma Spending Per Capita (USD)=%{z}<extra></extra>",
           "hovertext": [
            "AUS",
            "AUT",
            "BEL",
            "CAN",
            "CZE",
            "DEU",
            "DNK",
            "ESP",
            "FIN",
            "FRA",
            "GBR",
            "GRC",
            "HUN",
            "IRL",
            "ISL",
            "ITA",
            "JPN",
            "KOR",
            "LUX",
            "NLD",
            "NOR",
            "NZL",
            "PRT",
            "SWE",
            "USA"
           ],
           "locationmode": "ISO-3",
           "locations": [
            "AUS",
            "AUT",
            "BEL",
            "CAN",
            "CZE",
            "DEU",
            "DNK",
            "ESP",
            "FIN",
            "FRA",
            "GBR",
            "GRC",
            "HUN",
            "IRL",
            "ISL",
            "ITA",
            "JPN",
            "KOR",
            "LUX",
            "NLD",
            "NOR",
            "NZL",
            "PRT",
            "SWE",
            "USA"
           ],
           "name": "",
           "type": "choropleth",
           "z": [
            196.205,
            199.061,
            301.872,
            285.008,
            228.554,
            309.583,
            160.002,
            222.776,
            192.792,
            323.389,
            176.424,
            194.263,
            183.099,
            136.152,
            249.758,
            286.138,
            297.368,
            115.405,
            252.509,
            203.723,
            168.364,
            193.03,
            245.113,
            206.178,
            300.923
           ]
          }
         ],
         "name": "1995"
        },
        {
         "data": [
          {
           "coloraxis": "coloraxis",
           "geo": "geo",
           "hovertemplate": "<b>%{hovertext}</b><br><br>TIME=1996<br>LOCATION=%{location}<br>Pharma Spending Per Capita (USD)=%{z}<extra></extra>",
           "hovertext": [
            "AUS",
            "AUT",
            "BEL",
            "CAN",
            "CZE",
            "DEU",
            "DNK",
            "ESP",
            "FIN",
            "FRA",
            "GBR",
            "GRC",
            "HUN",
            "IRL",
            "ISL",
            "ITA",
            "JPN",
            "KOR",
            "LUX",
            "NLD",
            "NOR",
            "NZL",
            "PRT",
            "SWE",
            "USA"
           ],
           "locationmode": "ISO-3",
           "locations": [
            "AUS",
            "AUT",
            "BEL",
            "CAN",
            "CZE",
            "DEU",
            "DNK",
            "ESP",
            "FIN",
            "FRA",
            "GBR",
            "GRC",
            "HUN",
            "IRL",
            "ISL",
            "ITA",
            "JPN",
            "KOR",
            "LUX",
            "NLD",
            "NOR",
            "NZL",
            "PRT",
            "SWE",
            "USA"
           ],
           "name": "",
           "type": "choropleth",
           "z": [
            215.33,
            212.567,
            302.676,
            291.519,
            237.604,
            333.769,
            166.166,
            239.197,
            210.958,
            330.285,
            193.853,
            206.003,
            188.948,
            152.74,
            269.332,
            305.288,
            302.192,
            130.478,
            255.563,
            211.859,
            186.204,
            195.076,
            267.414,
            241.058,
            330.937
           ]
          }
         ],
         "name": "1996"
        },
        {
         "data": [
          {
           "coloraxis": "coloraxis",
           "geo": "geo",
           "hovertemplate": "<b>%{hovertext}</b><br><br>TIME=1997<br>LOCATION=%{location}<br>Pharma Spending Per Capita (USD)=%{z}<extra></extra>",
           "hovertext": [
            "AUS",
            "AUT",
            "BEL",
            "CAN",
            "CZE",
            "DEU",
            "DNK",
            "ESP",
            "FIN",
            "FRA",
            "GRC",
            "HUN",
            "IRL",
            "ISL",
            "ITA",
            "JPN",
            "KOR",
            "LUX",
            "NLD",
            "NOR",
            "NZL",
            "PRT",
            "SWE",
            "USA"
           ],
           "locationmode": "ISO-3",
           "locations": [
            "AUS",
            "AUT",
            "BEL",
            "CAN",
            "CZE",
            "DEU",
            "DNK",
            "ESP",
            "FIN",
            "FRA",
            "GRC",
            "HUN",
            "IRL",
            "ISL",
            "ITA",
            "JPN",
            "KOR",
            "LUX",
            "NLD",
            "NOR",
            "NZL",
            "PRT",
            "SWE",
            "USA"
           ],
           "name": "",
           "type": "choropleth",
           "z": [
            232.169,
            253.988,
            317.541,
            319.143,
            236.938,
            335.385,
            175.836,
            262.641,
            224.894,
            345.815,
            217.478,
            192.992,
            161.814,
            312.746,
            333.384,
            298.214,
            135.67,
            287.122,
            216.569,
            211.798,
            203.749,
            282.889,
            222.756,
            363.952
           ]
          }
         ],
         "name": "1997"
        },
        {
         "data": [
          {
           "coloraxis": "coloraxis",
           "geo": "geo",
           "hovertemplate": "<b>%{hovertext}</b><br><br>TIME=1998<br>LOCATION=%{location}<br>Pharma Spending Per Capita (USD)=%{z}<extra></extra>",
           "hovertext": [
            "AUS",
            "AUT",
            "CAN",
            "CZE",
            "DEU",
            "DNK",
            "ESP",
            "FIN",
            "FRA",
            "GRC",
            "IRL",
            "ISL",
            "ITA",
            "JPN",
            "KOR",
            "LUX",
            "NLD",
            "NOR",
            "PRT",
            "SWE",
            "USA"
           ],
           "locationmode": "ISO-3",
           "locations": [
            "AUS",
            "AUT",
            "CAN",
            "CZE",
            "DEU",
            "DNK",
            "ESP",
            "FIN",
            "FRA",
            "GRC",
            "IRL",
            "ISL",
            "ITA",
            "JPN",
            "KOR",
            "LUX",
            "NLD",
            "NOR",
            "PRT",
            "SWE",
            "USA"
           ],
           "name": "",
           "type": "choropleth",
           "z": [
            259.041,
            287.561,
            345.516,
            222.991,
            357.933,
            198.446,
            282.031,
            223.195,
            368.527,
            192.313,
            184.401,
            338.45,
            358.5,
            281.881,
            128.674,
            298.88,
            258.031,
            227.099,
            288.408,
            258.376,
            402.545
           ]
          }
         ],
         "name": "1998"
        },
        {
         "data": [
          {
           "coloraxis": "coloraxis",
           "geo": "geo",
           "hovertemplate": "<b>%{hovertext}</b><br><br>TIME=1999<br>LOCATION=%{location}<br>Pharma Spending Per Capita (USD)=%{z}<extra></extra>",
           "hovertext": [
            "AUS",
            "AUT",
            "CAN",
            "CZE",
            "DEU",
            "DNK",
            "ESP",
            "EST",
            "FIN",
            "FRA",
            "GRC",
            "IRL",
            "ISL",
            "ITA",
            "JPN",
            "KOR",
            "LUX",
            "MEX",
            "NLD",
            "NOR",
            "SVK",
            "SWE",
            "TUR",
            "USA"
           ],
           "locationmode": "ISO-3",
           "locations": [
            "AUS",
            "AUT",
            "CAN",
            "CZE",
            "DEU",
            "DNK",
            "ESP",
            "EST",
            "FIN",
            "FRA",
            "GRC",
            "IRL",
            "ISL",
            "ITA",
            "JPN",
            "KOR",
            "LUX",
            "MEX",
            "NLD",
            "NOR",
            "SVK",
            "SWE",
            "TUR",
            "USA"
           ],
           "name": "",
           "type": "choropleth",
           "z": [
            287.245,
            322.489,
            369.052,
            229.864,
            377.398,
            197.474,
            303.135,
            101.901,
            250.551,
            398.617,
            209.652,
            209.317,
            370.923,
            381.619,
            302.756,
            147.512,
            338.318,
            90.205,
            283.513,
            241.838,
            229.096,
            286.758,
            100.909,
            463.851
           ]
          }
         ],
         "name": "1999"
        },
        {
         "data": [
          {
           "coloraxis": "coloraxis",
           "geo": "geo",
           "hovertemplate": "<b>%{hovertext}</b><br><br>TIME=2000<br>LOCATION=%{location}<br>Pharma Spending Per Capita (USD)=%{z}<extra></extra>",
           "hovertext": [
            "AUS",
            "AUT",
            "CAN",
            "CZE",
            "DEU",
            "DNK",
            "ESP",
            "EST",
            "FIN",
            "FRA",
            "GRC",
            "IRL",
            "ISL",
            "ITA",
            "JPN",
            "KOR",
            "LUX",
            "MEX",
            "NLD",
            "NOR",
            "PRT",
            "SVK",
            "SWE",
            "TUR",
            "USA"
           ],
           "locationmode": "ISO-3",
           "locations": [
            "AUS",
            "AUT",
            "CAN",
            "CZE",
            "DEU",
            "DNK",
            "ESP",
            "EST",
            "FIN",
            "FRA",
            "GRC",
            "IRL",
            "ISL",
            "ITA",
            "JPN",
            "KOR",
            "LUX",
            "MEX",
            "NLD",
            "NOR",
            "PRT",
            "SVK",
            "SWE",
            "TUR",
            "USA"
           ],
           "name": "",
           "type": "choropleth",
           "z": [
            338.103,
            357.062,
            406.817,
            253.005,
            407.469,
            212.719,
            334.654,
            123.756,
            282.198,
            454.16,
            281.854,
            259.398,
            424.768,
            429.62,
            340.098,
            175.568,
            376.489,
            103.114,
            318.355,
            285.304,
            354.319,
            239.524,
            318.668,
            120.135,
            521.677
           ]
          }
         ],
         "name": "2000"
        },
        {
         "data": [
          {
           "coloraxis": "coloraxis",
           "geo": "geo",
           "hovertemplate": "<b>%{hovertext}</b><br><br>TIME=2001<br>LOCATION=%{location}<br>Pharma Spending Per Capita (USD)=%{z}<extra></extra>",
           "hovertext": [
            "AUS",
            "AUT",
            "CAN",
            "CZE",
            "DEU",
            "DNK",
            "ESP",
            "EST",
            "FIN",
            "FRA",
            "GRC",
            "HUN",
            "IRL",
            "ISL",
            "ITA",
            "JPN",
            "KOR",
            "LUX",
            "MEX",
            "NLD",
            "NOR",
            "PRT",
            "SVK",
            "SWE",
            "USA"
           ],
           "locationmode": "ISO-3",
           "locations": [
            "AUS",
            "AUT",
            "CAN",
            "CZE",
            "DEU",
            "DNK",
            "ESP",
            "EST",
            "FIN",
            "FRA",
            "GRC",
            "HUN",
            "IRL",
            "ISL",
            "ITA",
            "JPN",
            "KOR",
            "LUX",
            "MEX",
            "NLD",
            "NOR",
            "PRT",
            "SVK",
            "SWE",
            "USA"
           ],
           "name": "",
           "type": "choropleth",
           "z": [
            367.853,
            368.742,
            444.045,
            289.845,
            441.874,
            222.095,
            358.995,
            139.139,
            306.595,
            498.362,
            324.459,
            295.567,
            308.097,
            427.571,
            471.653,
            366.913,
            221.635,
            407.024,
            112.922,
            339.924,
            293.627,
            379.443,
            263.001,
            356.468,
            584.779
           ]
          }
         ],
         "name": "2001"
        },
        {
         "data": [
          {
           "coloraxis": "coloraxis",
           "geo": "geo",
           "hovertemplate": "<b>%{hovertext}</b><br><br>TIME=2002<br>LOCATION=%{location}<br>Pharma Spending Per Capita (USD)=%{z}<extra></extra>",
           "hovertext": [
            "AUS",
            "AUT",
            "CAN",
            "CZE",
            "DEU",
            "DNK",
            "ESP",
            "EST",
            "FIN",
            "FRA",
            "GRC",
            "HUN",
            "IRL",
            "ISL",
            "ITA",
            "JPN",
            "KOR",
            "LUX",
            "MEX",
            "NLD",
            "NOR",
            "POL",
            "PRT",
            "SVK",
            "SVN",
            "SWE",
            "USA"
           ],
           "locationmode": "ISO-3",
           "locations": [
            "AUS",
            "AUT",
            "CAN",
            "CZE",
            "DEU",
            "DNK",
            "ESP",
            "EST",
            "FIN",
            "FRA",
            "GRC",
            "HUN",
            "IRL",
            "ISL",
            "ITA",
            "JPN",
            "KOR",
            "LUX",
            "MEX",
            "NLD",
            "NOR",
            "POL",
            "PRT",
            "SVK",
            "SVN",
            "SWE",
            "USA"
           ],
           "name": "",
           "type": "choropleth",
           "z": [
            381.433,
            407.91,
            480.949,
            317.795,
            483.022,
            255.15,
            408.498,
            169.659,
            344.581,
            541.758,
            389.24,
            337.883,
            357.489,
            470.918,
            501.305,
            384.942,
            236.974,
            462.209,
            129.947,
            376.751,
            340.848,
            228.42,
            409.288,
            326.289,
            383.621,
            394.618,
            652.646
           ]
          }
         ],
         "name": "2002"
        },
        {
         "data": [
          {
           "coloraxis": "coloraxis",
           "geo": "geo",
           "hovertemplate": "<b>%{hovertext}</b><br><br>TIME=2003<br>LOCATION=%{location}<br>Pharma Spending Per Capita (USD)=%{z}<extra></extra>",
           "hovertext": [
            "AUS",
            "AUT",
            "BEL",
            "BGR",
            "CAN",
            "CYP",
            "CZE",
            "DEU",
            "DNK",
            "ESP",
            "EST",
            "FIN",
            "FRA",
            "GRC",
            "HUN",
            "IRL",
            "ISL",
            "ITA",
            "JPN",
            "KOR",
            "LUX",
            "MEX",
            "NLD",
            "NOR",
            "POL",
            "PRT",
            "ROU",
            "SVK",
            "SVN",
            "SWE",
            "USA"
           ],
           "locationmode": "ISO-3",
           "locations": [
            "AUS",
            "AUT",
            "BEL",
            "BGR",
            "CAN",
            "CYP",
            "CZE",
            "DEU",
            "DNK",
            "ESP",
            "EST",
            "FIN",
            "FRA",
            "GRC",
            "HUN",
            "IRL",
            "ISL",
            "ITA",
            "JPN",
            "KOR",
            "LUX",
            "MEX",
            "NLD",
            "NOR",
            "POL",
            "PRT",
            "ROU",
            "SVK",
            "SVN",
            "SWE",
            "USA"
           ],
           "name": "",
           "type": "choropleth",
           "z": [
            406.438,
            435.142,
            504.999,
            231.652,
            520.034,
            312.892,
            351.182,
            493.455,
            251.656,
            431.589,
            179.993,
            354.069,
            536.658,
            503.399,
            376.61,
            389.095,
            484.45,
            489.341,
            428.518,
            269.091,
            483.735,
            247.284,
            376.391,
            340.564,
            246.776,
            423.655,
            89.719,
            352.728,
            378.946,
            386.867,
            723.841
           ]
          }
         ],
         "name": "2003"
        },
        {
         "data": [
          {
           "coloraxis": "coloraxis",
           "geo": "geo",
           "hovertemplate": "<b>%{hovertext}</b><br><br>TIME=2004<br>LOCATION=%{location}<br>Pharma Spending Per Capita (USD)=%{z}<extra></extra>",
           "hovertext": [
            "AUS",
            "AUT",
            "BEL",
            "BGR",
            "CAN",
            "CYP",
            "CZE",
            "DEU",
            "DNK",
            "ESP",
            "EST",
            "FIN",
            "FRA",
            "GRC",
            "HUN",
            "IRL",
            "ISL",
            "ITA",
            "JPN",
            "KOR",
            "LTU",
            "LUX",
            "LVA",
            "MEX",
            "NLD",
            "NOR",
            "NZL",
            "POL",
            "PRT",
            "ROU",
            "SVK",
            "SVN",
            "SWE",
            "USA"
           ],
           "locationmode": "ISO-3",
           "locations": [
            "AUS",
            "AUT",
            "BEL",
            "BGR",
            "CAN",
            "CYP",
            "CZE",
            "DEU",
            "DNK",
            "ESP",
            "EST",
            "FIN",
            "FRA",
            "GRC",
            "HUN",
            "IRL",
            "ISL",
            "ITA",
            "JPN",
            "KOR",
            "LTU",
            "LUX",
            "LVA",
            "MEX",
            "NLD",
            "NOR",
            "NZL",
            "POL",
            "PRT",
            "ROU",
            "SVK",
            "SVN",
            "SWE",
            "USA"
           ],
           "name": "",
           "type": "choropleth",
           "z": [
            441.202,
            453.933,
            528.023,
            233.474,
            561.774,
            316.318,
            375.84,
            475.303,
            260.561,
            438.984,
            208.687,
            388.045,
            559.044,
            519.224,
            402.121,
            439.097,
            509.515,
            514.622,
            448.278,
            286.454,
            267.716,
            497.269,
            188.585,
            269.151,
            390.264,
            367.833,
            223.715,
            259.635,
            460.771,
            142.581,
            376.255,
            394.479,
            398.142,
            779.91
           ]
          }
         ],
         "name": "2004"
        },
        {
         "data": [
          {
           "coloraxis": "coloraxis",
           "geo": "geo",
           "hovertemplate": "<b>%{hovertext}</b><br><br>TIME=2005<br>LOCATION=%{location}<br>Pharma Spending Per Capita (USD)=%{z}<extra></extra>",
           "hovertext": [
            "AUS",
            "AUT",
            "BEL",
            "BGR",
            "CAN",
            "CYP",
            "CZE",
            "DEU",
            "DNK",
            "ESP",
            "EST",
            "FIN",
            "FRA",
            "GRC",
            "HUN",
            "IRL",
            "ISL",
            "ITA",
            "JPN",
            "KOR",
            "LTU",
            "LUX",
            "LVA",
            "MEX",
            "NLD",
            "NOR",
            "NZL",
            "POL",
            "PRT",
            "ROU",
            "SVK",
            "SVN",
            "SWE",
            "USA"
           ],
           "locationmode": "ISO-3",
           "locations": [
            "AUS",
            "AUT",
            "BEL",
            "BGR",
            "CAN",
            "CYP",
            "CZE",
            "DEU",
            "DNK",
            "ESP",
            "EST",
            "FIN",
            "FRA",
            "GRC",
            "HUN",
            "IRL",
            "ISL",
            "ITA",
            "JPN",
            "KOR",
            "LTU",
            "LUX",
            "LVA",
            "MEX",
            "NLD",
            "NOR",
            "NZL",
            "POL",
            "PRT",
            "ROU",
            "SVK",
            "SVN",
            "SWE",
            "USA"
           ],
           "name": "",
           "type": "choropleth",
           "z": [
            437.125,
            460.159,
            526.39,
            243.791,
            594.446,
            325.949,
            391.508,
            518.404,
            258.681,
            441.063,
            205.453,
            405.017,
            573.536,
            547.175,
            457.642,
            478.63,
            482.889,
            510.092,
            489.158,
            308.164,
            304.161,
            498.272,
            189.344,
            274.714,
            399.59,
            361.461,
            234.745,
            248.394,
            478.311,
            153.445,
            396.543,
            404.794,
            398.239,
            826.029
           ]
          }
         ],
         "name": "2005"
        },
        {
         "data": [
          {
           "coloraxis": "coloraxis",
           "geo": "geo",
           "hovertemplate": "<b>%{hovertext}</b><br><br>TIME=2006<br>LOCATION=%{location}<br>Pharma Spending Per Capita (USD)=%{z}<extra></extra>",
           "hovertext": [
            "AUS",
            "AUT",
            "BEL",
            "BGR",
            "CAN",
            "CYP",
            "CZE",
            "DEU",
            "DNK",
            "ESP",
            "EST",
            "FIN",
            "FRA",
            "GRC",
            "HUN",
            "IRL",
            "ISL",
            "ISR",
            "ITA",
            "JPN",
            "KOR",
            "LTU",
            "LUX",
            "LVA",
            "MEX",
            "NLD",
            "NOR",
            "NZL",
            "POL",
            "PRT",
            "ROU",
            "SVK",
            "SVN",
            "SWE",
            "USA"
           ],
           "locationmode": "ISO-3",
           "locations": [
            "AUS",
            "AUT",
            "BEL",
            "BGR",
            "CAN",
            "CYP",
            "CZE",
            "DEU",
            "DNK",
            "ESP",
            "EST",
            "FIN",
            "FRA",
            "GRC",
            "HUN",
            "IRL",
            "ISL",
            "ISR",
            "ITA",
            "JPN",
            "KOR",
            "LTU",
            "LUX",
            "LVA",
            "MEX",
            "NLD",
            "NOR",
            "NZL",
            "POL",
            "PRT",
            "ROU",
            "SVK",
            "SVN",
            "SWE",
            "USA"
           ],
           "name": "",
           "type": "choropleth",
           "z": [
            457.715,
            482.397,
            524.904,
            267.287,
            625.283,
            333.753,
            366.301,
            533.928,
            286.756,
            450.565,
            199.165,
            389.562,
            581.556,
            615.122,
            483.381,
            527.657,
            492.809,
            232.584,
            535.788,
            506.852,
            351.33,
            313.348,
            525.621,
            217.575,
            285.489,
            408.591,
            366.17,
            275.817,
            260.35,
            495.923,
            161.701,
            417.939,
            420.082,
            427.008,
            894.044
           ]
          }
         ],
         "name": "2006"
        },
        {
         "data": [
          {
           "coloraxis": "coloraxis",
           "geo": "geo",
           "hovertemplate": "<b>%{hovertext}</b><br><br>TIME=2007<br>LOCATION=%{location}<br>Pharma Spending Per Capita (USD)=%{z}<extra></extra>",
           "hovertext": [
            "AUS",
            "AUT",
            "BEL",
            "BGR",
            "CAN",
            "CYP",
            "CZE",
            "DEU",
            "DNK",
            "ESP",
            "EST",
            "FIN",
            "FRA",
            "GRC",
            "HUN",
            "IRL",
            "ISL",
            "ISR",
            "ITA",
            "JPN",
            "KOR",
            "LTU",
            "LUX",
            "LVA",
            "MEX",
            "NLD",
            "NOR",
            "NZL",
            "POL",
            "PRT",
            "ROU",
            "SVK",
            "SVN",
            "SWE",
            "USA"
           ],
           "locationmode": "ISO-3",
           "locations": [
            "AUS",
            "AUT",
            "BEL",
            "BGR",
            "CAN",
            "CYP",
            "CZE",
            "DEU",
            "DNK",
            "ESP",
            "EST",
            "FIN",
            "FRA",
            "GRC",
            "HUN",
            "IRL",
            "ISL",
            "ISR",
            "ITA",
            "JPN",
            "KOR",
            "LTU",
            "LUX",
            "LVA",
            "MEX",
            "NLD",
            "NOR",
            "NZL",
            "POL",
            "PRT",
            "ROU",
            "SVK",
            "SVN",
            "SWE",
            "USA"
           ],
           "name": "",
           "type": "choropleth",
           "z": [
            486.408,
            511.897,
            549.591,
            275.732,
            657.556,
            360.638,
            368.845,
            574.357,
            316.624,
            449.583,
            226.421,
            425.837,
            594.425,
            651.201,
            452.144,
            553.508,
            494.023,
            252.131,
            539.188,
            537.234,
            381.905,
            329.984,
            542.908,
            299.618,
            295.376,
            444.177,
            369.924,
            264.084,
            278.92,
            505.755,
            181.785,
            465.38,
            414.8,
            448.046,
            933.087
           ]
          }
         ],
         "name": "2007"
        },
        {
         "data": [
          {
           "coloraxis": "coloraxis",
           "geo": "geo",
           "hovertemplate": "<b>%{hovertext}</b><br><br>TIME=2008<br>LOCATION=%{location}<br>Pharma Spending Per Capita (USD)=%{z}<extra></extra>",
           "hovertext": [
            "AUS",
            "AUT",
            "BEL",
            "BGR",
            "CAN",
            "CYP",
            "CZE",
            "DEU",
            "DNK",
            "ESP",
            "EST",
            "FIN",
            "FRA",
            "GRC",
            "HUN",
            "IRL",
            "ISL",
            "ISR",
            "ITA",
            "JPN",
            "KOR",
            "LTU",
            "LUX",
            "LVA",
            "MEX",
            "NLD",
            "NOR",
            "POL",
            "PRT",
            "ROU",
            "SVK",
            "SVN",
            "SWE",
            "USA"
           ],
           "locationmode": "ISO-3",
           "locations": [
            "AUS",
            "AUT",
            "BEL",
            "BGR",
            "CAN",
            "CYP",
            "CZE",
            "DEU",
            "DNK",
            "ESP",
            "EST",
            "FIN",
            "FRA",
            "GRC",
            "HUN",
            "IRL",
            "ISL",
            "ISR",
            "ITA",
            "JPN",
            "KOR",
            "LTU",
            "LUX",
            "LVA",
            "MEX",
            "NLD",
            "NOR",
            "POL",
            "PRT",
            "ROU",
            "SVK",
            "SVN",
            "SWE",
            "USA"
           ],
           "name": "",
           "type": "choropleth",
           "z": [
            516.333,
            538.527,
            526.611,
            308.211,
            674.417,
            379.08,
            381.104,
            606.585,
            314.596,
            467.136,
            242.689,
            457.118,
            606.492,
            734.77,
            476.311,
            581.225,
            537.29,
            247.078,
            562.602,
            557.041,
            399.108,
            351.979,
            555.407,
            240.268,
            298.247,
            436.684,
            366.041,
            300.86,
            512.518,
            215.627,
            508.8,
            438.139,
            474.447,
            952.447
           ]
          }
         ],
         "name": "2008"
        },
        {
         "data": [
          {
           "coloraxis": "coloraxis",
           "geo": "geo",
           "hovertemplate": "<b>%{hovertext}</b><br><br>TIME=2009<br>LOCATION=%{location}<br>Pharma Spending Per Capita (USD)=%{z}<extra></extra>",
           "hovertext": [
            "AUS",
            "AUT",
            "BEL",
            "CAN",
            "CYP",
            "CZE",
            "DEU",
            "DNK",
            "ESP",
            "EST",
            "FIN",
            "FRA",
            "GRC",
            "HUN",
            "IRL",
            "ISL",
            "ISR",
            "ITA",
            "JPN",
            "KOR",
            "LTU",
            "LUX",
            "LVA",
            "MEX",
            "NLD",
            "NOR",
            "POL",
            "PRT",
            "ROU",
            "SVK",
            "SVN",
            "SWE",
            "USA"
           ],
           "locationmode": "ISO-3",
           "locations": [
            "AUS",
            "AUT",
            "BEL",
            "CAN",
            "CYP",
            "CZE",
            "DEU",
            "DNK",
            "ESP",
            "EST",
            "FIN",
            "FRA",
            "GRC",
            "HUN",
            "IRL",
            "ISL",
            "ISR",
            "ITA",
            "JPN",
            "KOR",
            "LTU",
            "LUX",
            "LVA",
            "MEX",
            "NLD",
            "NOR",
            "POL",
            "PRT",
            "ROU",
            "SVK",
            "SVN",
            "SWE",
            "USA"
           ],
           "name": "",
           "type": "choropleth",
           "z": [
            530.969,
            505.931,
            526.238,
            692.029,
            369.053,
            453.587,
            632.661,
            305.733,
            472.568,
            261.29,
            445,
            609.668,
            748.159,
            490.503,
            583.463,
            554.651,
            267.541,
            557.06,
            623.452,
            427.538,
            352.772,
            563.008,
            245.2,
            295.992,
            425.964,
            355.65,
            322.516,
            501.813,
            209.121,
            532.417,
            447.479,
            474.24,
            984.105
           ]
          }
         ],
         "name": "2009"
        },
        {
         "data": [
          {
           "coloraxis": "coloraxis",
           "geo": "geo",
           "hovertemplate": "<b>%{hovertext}</b><br><br>TIME=2010<br>LOCATION=%{location}<br>Pharma Spending Per Capita (USD)=%{z}<extra></extra>",
           "hovertext": [
            "AUS",
            "AUT",
            "BEL",
            "CAN",
            "CHE",
            "CYP",
            "CZE",
            "DEU",
            "DNK",
            "ESP",
            "EST",
            "FIN",
            "FRA",
            "GRC",
            "HUN",
            "IRL",
            "ISL",
            "ISR",
            "ITA",
            "JPN",
            "KOR",
            "LTU",
            "LUX",
            "LVA",
            "MEX",
            "NLD",
            "NOR",
            "POL",
            "PRT",
            "ROU",
            "SVK",
            "SVN",
            "SWE",
            "USA"
           ],
           "locationmode": "ISO-3",
           "locations": [
            "AUS",
            "AUT",
            "BEL",
            "CAN",
            "CHE",
            "CYP",
            "CZE",
            "DEU",
            "DNK",
            "ESP",
            "EST",
            "FIN",
            "FRA",
            "GRC",
            "HUN",
            "IRL",
            "ISL",
            "ISR",
            "ITA",
            "JPN",
            "KOR",
            "LTU",
            "LUX",
            "LVA",
            "MEX",
            "NLD",
            "NOR",
            "POL",
            "PRT",
            "ROU",
            "SVK",
            "SVN",
            "SWE",
            "USA"
           ],
           "name": "",
           "type": "choropleth",
           "z": [
            561.659,
            520.448,
            540.994,
            755.74,
            530.899,
            333.517,
            431.282,
            663.249,
            336.878,
            466.75,
            278.947,
            446.764,
            621.644,
            749.826,
            554.391,
            600.152,
            531.339,
            268.492,
            582.095,
            648.83,
            464.663,
            366.467,
            543.835,
            277.587,
            227.703,
            423.464,
            365.574,
            346.358,
            495.787,
            242.137,
            587.244,
            458.749,
            466.014,
            986.63
           ]
          }
         ],
         "name": "2010"
        },
        {
         "data": [
          {
           "coloraxis": "coloraxis",
           "geo": "geo",
           "hovertemplate": "<b>%{hovertext}</b><br><br>TIME=2011<br>LOCATION=%{location}<br>Pharma Spending Per Capita (USD)=%{z}<extra></extra>",
           "hovertext": [
            "AUS",
            "AUT",
            "BEL",
            "CAN",
            "CHE",
            "CRI",
            "CYP",
            "CZE",
            "DEU",
            "DNK",
            "ESP",
            "EST",
            "FIN",
            "FRA",
            "GRC",
            "HRV",
            "HUN",
            "IRL",
            "ISL",
            "ISR",
            "ITA",
            "JPN",
            "KOR",
            "LTU",
            "LUX",
            "LVA",
            "MEX",
            "NLD",
            "NOR",
            "POL",
            "PRT",
            "ROU",
            "SVK",
            "SVN",
            "SWE",
            "USA"
           ],
           "locationmode": "ISO-3",
           "locations": [
            "AUS",
            "AUT",
            "BEL",
            "CAN",
            "CHE",
            "CRI",
            "CYP",
            "CZE",
            "DEU",
            "DNK",
            "ESP",
            "EST",
            "FIN",
            "FRA",
            "GRC",
            "HRV",
            "HUN",
            "IRL",
            "ISL",
            "ISR",
            "ITA",
            "JPN",
            "KOR",
            "LTU",
            "LUX",
            "LVA",
            "MEX",
            "NLD",
            "NOR",
            "POL",
            "PRT",
            "ROU",
            "SVK",
            "SVN",
            "SWE",
            "USA"
           ],
           "name": "",
           "type": "choropleth",
           "z": [
            583.222,
            534.067,
            551.654,
            755.06,
            539.795,
            175.759,
            322.562,
            435.792,
            652.43,
            327.597,
            446.39,
            278.915,
            448.472,
            622.837,
            709.328,
            449.42,
            614.461,
            588.288,
            517.476,
            279.705,
            574.551,
            707.419,
            477.438,
            386.597,
            428.823,
            281.155,
            206.052,
            426.645,
            397.13,
            361.408,
            450.09,
            320.393,
            567.145,
            464.769,
            467.145,
            1004.205
           ]
          }
         ],
         "name": "2011"
        },
        {
         "data": [
          {
           "coloraxis": "coloraxis",
           "geo": "geo",
           "hovertemplate": "<b>%{hovertext}</b><br><br>TIME=2012<br>LOCATION=%{location}<br>Pharma Spending Per Capita (USD)=%{z}<extra></extra>",
           "hovertext": [
            "AUS",
            "AUT",
            "BEL",
            "BGR",
            "CAN",
            "CHE",
            "CRI",
            "CYP",
            "CZE",
            "DEU",
            "DNK",
            "ESP",
            "EST",
            "FIN",
            "FRA",
            "GRC",
            "HRV",
            "HUN",
            "IRL",
            "ISL",
            "ISR",
            "ITA",
            "JPN",
            "KOR",
            "LTU",
            "LUX",
            "LVA",
            "MEX",
            "NLD",
            "NOR",
            "POL",
            "PRT",
            "ROU",
            "SVK",
            "SVN",
            "SWE",
            "USA"
           ],
           "locationmode": "ISO-3",
           "locations": [
            "AUS",
            "AUT",
            "BEL",
            "BGR",
            "CAN",
            "CHE",
            "CRI",
            "CYP",
            "CZE",
            "DEU",
            "DNK",
            "ESP",
            "EST",
            "FIN",
            "FRA",
            "GRC",
            "HRV",
            "HUN",
            "IRL",
            "ISL",
            "ISR",
            "ITA",
            "JPN",
            "KOR",
            "LTU",
            "LUX",
            "LVA",
            "MEX",
            "NLD",
            "NOR",
            "POL",
            "PRT",
            "ROU",
            "SVK",
            "SVN",
            "SWE",
            "USA"
           ],
           "name": "",
           "type": "choropleth",
           "z": [
            589.993,
            553.478,
            541.621,
            474.182,
            756.825,
            566.963,
            175.023,
            320.284,
            453.465,
            670.593,
            320.08,
            431.254,
            305.288,
            460.321,
            619.827,
            622.251,
            465.814,
            575.517,
            616.252,
            509.66,
            294.604,
            510.916,
            749.96,
            484.619,
            453.815,
            554.233,
            295.051,
            227.68,
            390.837,
            402.861,
            351.322,
            413.738,
            323.816,
            556.726,
            489.476,
            484.705,
            1013.8
           ]
          }
         ],
         "name": "2012"
        },
        {
         "data": [
          {
           "coloraxis": "coloraxis",
           "geo": "geo",
           "hovertemplate": "<b>%{hovertext}</b><br><br>TIME=2013<br>LOCATION=%{location}<br>Pharma Spending Per Capita (USD)=%{z}<extra></extra>",
           "hovertext": [
            "AUS",
            "AUT",
            "BEL",
            "BGR",
            "CAN",
            "CHE",
            "COL",
            "CRI",
            "CYP",
            "CZE",
            "DEU",
            "DNK",
            "ESP",
            "EST",
            "FIN",
            "FRA",
            "GBR",
            "GRC",
            "HRV",
            "HUN",
            "IRL",
            "ISL",
            "ISR",
            "ITA",
            "JPN",
            "KOR",
            "LTU",
            "LUX",
            "LVA",
            "MEX",
            "NLD",
            "NOR",
            "POL",
            "PRT",
            "ROU",
            "SVK",
            "SVN",
            "SWE",
            "USA"
           ],
           "locationmode": "ISO-3",
           "locations": [
            "AUS",
            "AUT",
            "BEL",
            "BGR",
            "CAN",
            "CHE",
            "COL",
            "CRI",
            "CYP",
            "CZE",
            "DEU",
            "DNK",
            "ESP",
            "EST",
            "FIN",
            "FRA",
            "GBR",
            "GRC",
            "HRV",
            "HUN",
            "IRL",
            "ISL",
            "ISR",
            "ITA",
            "JPN",
            "KOR",
            "LTU",
            "LUX",
            "LVA",
            "MEX",
            "NLD",
            "NOR",
            "POL",
            "PRT",
            "ROU",
            "SVK",
            "SVN",
            "SWE",
            "USA"
           ],
           "name": "",
           "type": "choropleth",
           "z": [
            586.402,
            566.622,
            556.791,
            432.714,
            754.272,
            595.626,
            144.302,
            167.223,
            331.247,
            454.121,
            693.51,
            308.592,
            449.956,
            316.199,
            472.552,
            676.497,
            449.818,
            572.577,
            349.071,
            551.813,
            568.401,
            486.27,
            290.03,
            519.224,
            812.268,
            473.375,
            468.395,
            565.568,
            323.219,
            226.219,
            377.565,
            416.312,
            362.625,
            402.222,
            406.056,
            571.491,
            501.439,
            475.572,
            1020.541
           ]
          }
         ],
         "name": "2013"
        },
        {
         "data": [
          {
           "coloraxis": "coloraxis",
           "geo": "geo",
           "hovertemplate": "<b>%{hovertext}</b><br><br>TIME=2014<br>LOCATION=%{location}<br>Pharma Spending Per Capita (USD)=%{z}<extra></extra>",
           "hovertext": [
            "AUS",
            "AUT",
            "BEL",
            "BGR",
            "CAN",
            "CHE",
            "COL",
            "CRI",
            "CYP",
            "CZE",
            "DEU",
            "DNK",
            "ESP",
            "EST",
            "FIN",
            "FRA",
            "GBR",
            "GRC",
            "HRV",
            "HUN",
            "IRL",
            "ISL",
            "ISR",
            "ITA",
            "JPN",
            "KOR",
            "LTU",
            "LUX",
            "LVA",
            "MEX",
            "MLT",
            "NLD",
            "NOR",
            "POL",
            "PRT",
            "ROU",
            "SVK",
            "SVN",
            "SWE",
            "USA"
           ],
           "locationmode": "ISO-3",
           "locations": [
            "AUS",
            "AUT",
            "BEL",
            "BGR",
            "CAN",
            "CHE",
            "COL",
            "CRI",
            "CYP",
            "CZE",
            "DEU",
            "DNK",
            "ESP",
            "EST",
            "FIN",
            "FRA",
            "GBR",
            "GRC",
            "HRV",
            "HUN",
            "IRL",
            "ISL",
            "ISR",
            "ITA",
            "JPN",
            "KOR",
            "LTU",
            "LUX",
            "LVA",
            "MEX",
            "MLT",
            "NLD",
            "NOR",
            "POL",
            "PRT",
            "ROU",
            "SVK",
            "SVN",
            "SWE",
            "USA"
           ],
           "name": "",
           "type": "choropleth",
           "z": [
            569.455,
            589.981,
            561.59,
            491.214,
            754.336,
            611.906,
            154.548,
            193.603,
            340.102,
            465.57,
            739.786,
            310.753,
            446.084,
            327.705,
            467.218,
            680.255,
            456.257,
            567.977,
            318.187,
            561.219,
            542.059,
            466.895,
            287.708,
            516.479,
            813.859,
            480.067,
            495.942,
            550.605,
            346.969,
            227.957,
            516.201,
            370.976,
            427.469,
            362.176,
            403.211,
            369.803,
            543.317,
            463.397,
            487.696,
            1118.634
           ]
          }
         ],
         "name": "2014"
        },
        {
         "data": [
          {
           "coloraxis": "coloraxis",
           "geo": "geo",
           "hovertemplate": "<b>%{hovertext}</b><br><br>TIME=2015<br>LOCATION=%{location}<br>Pharma Spending Per Capita (USD)=%{z}<extra></extra>",
           "hovertext": [
            "AUS",
            "AUT",
            "BEL",
            "BGR",
            "BRA",
            "CAN",
            "CHE",
            "COL",
            "CRI",
            "CYP",
            "CZE",
            "DEU",
            "DNK",
            "ESP",
            "EST",
            "FIN",
            "FRA",
            "GBR",
            "GRC",
            "HRV",
            "HUN",
            "IRL",
            "ISL",
            "ISR",
            "ITA",
            "JPN",
            "KOR",
            "LTU",
            "LUX",
            "LVA",
            "MEX",
            "MLT",
            "NLD",
            "NOR",
            "POL",
            "PRT",
            "ROU",
            "SVK",
            "SVN",
            "SWE",
            "USA"
           ],
           "locationmode": "ISO-3",
           "locations": [
            "AUS",
            "AUT",
            "BEL",
            "BGR",
            "BRA",
            "CAN",
            "CHE",
            "COL",
            "CRI",
            "CYP",
            "CZE",
            "DEU",
            "DNK",
            "ESP",
            "EST",
            "FIN",
            "FRA",
            "GBR",
            "GRC",
            "HRV",
            "HUN",
            "IRL",
            "ISL",
            "ISR",
            "ITA",
            "JPN",
            "KOR",
            "LTU",
            "LUX",
            "LVA",
            "MEX",
            "MLT",
            "NLD",
            "NOR",
            "POL",
            "PRT",
            "ROU",
            "SVK",
            "SVN",
            "SWE",
            "USA"
           ],
           "name": "",
           "type": "choropleth",
           "z": [
            594.233,
            607.648,
            591.141,
            516.436,
            248.338,
            774.778,
            636.994,
            159.429,
            201.037,
            383.794,
            468.988,
            761.448,
            316.719,
            461.926,
            340.315,
            484.533,
            673.38,
            458.246,
            578.16,
            320.895,
            563.595,
            548.009,
            472.054,
            309.568,
            551.703,
            891.136,
            519.359,
            515.108,
            548.094,
            388.369,
            240.501,
            575.784,
            380.966,
            439.572,
            385.842,
            418.613,
            363.502,
            553.2,
            470.778,
            504.915,
            1189.437
           ]
          }
         ],
         "name": "2015"
        },
        {
         "data": [
          {
           "coloraxis": "coloraxis",
           "geo": "geo",
           "hovertemplate": "<b>%{hovertext}</b><br><br>TIME=2016<br>LOCATION=%{location}<br>Pharma Spending Per Capita (USD)=%{z}<extra></extra>",
           "hovertext": [
            "AUS",
            "AUT",
            "BEL",
            "BGR",
            "BRA",
            "CAN",
            "CHE",
            "COL",
            "CRI",
            "CYP",
            "CZE",
            "DEU",
            "DNK",
            "ESP",
            "EST",
            "FIN",
            "FRA",
            "GBR",
            "GRC",
            "HRV",
            "HUN",
            "IRL",
            "ISL",
            "ISR",
            "ITA",
            "JPN",
            "KOR",
            "LTU",
            "LUX",
            "LVA",
            "MEX",
            "MLT",
            "NLD",
            "NOR",
            "POL",
            "PRT",
            "ROU",
            "SVK",
            "SVN",
            "SWE",
            "USA"
           ],
           "locationmode": "ISO-3",
           "locations": [
            "AUS",
            "AUT",
            "BEL",
            "BGR",
            "BRA",
            "CAN",
            "CHE",
            "COL",
            "CRI",
            "CYP",
            "CZE",
            "DEU",
            "DNK",
            "ESP",
            "EST",
            "FIN",
            "FRA",
            "GBR",
            "GRC",
            "HRV",
            "HUN",
            "IRL",
            "ISL",
            "ISR",
            "ITA",
            "JPN",
            "KOR",
            "LTU",
            "LUX",
            "LVA",
            "MEX",
            "MLT",
            "NLD",
            "NOR",
            "POL",
            "PRT",
            "ROU",
            "SVK",
            "SVN",
            "SWE",
            "USA"
           ],
           "name": "",
           "type": "choropleth",
           "z": [
            650.539,
            621.653,
            603.742,
            587.206,
            244.67,
            838.504,
            676.592,
            171.109,
            192.399,
            426.097,
            496.858,
            819.478,
            321.823,
            499.864,
            385.885,
            515.993,
            695.401,
            471.393,
            631.254,
            362.974,
            589.379,
            578.508,
            455.666,
            329.683,
            577.766,
            797.703,
            554.942,
            570.369,
            565.786,
            456.477,
            250.617,
            570.587,
            392.751,
            446.702,
            411.073,
            434.328,
            388.742,
            542.415,
            500.273,
            524.404,
            1192.301
           ]
          }
         ],
         "name": "2016"
        },
        {
         "data": [
          {
           "coloraxis": "coloraxis",
           "geo": "geo",
           "hovertemplate": "<b>%{hovertext}</b><br><br>TIME=2017<br>LOCATION=%{location}<br>Pharma Spending Per Capita (USD)=%{z}<extra></extra>",
           "hovertext": [
            "AUS",
            "AUT",
            "BEL",
            "BGR",
            "BRA",
            "CAN",
            "CHE",
            "COL",
            "CRI",
            "CYP",
            "CZE",
            "DEU",
            "DNK",
            "ESP",
            "EST",
            "FIN",
            "FRA",
            "GBR",
            "GRC",
            "HRV",
            "HUN",
            "IRL",
            "ISL",
            "ISR",
            "ITA",
            "JPN",
            "KOR",
            "LTU",
            "LUX",
            "LVA",
            "MEX",
            "MLT",
            "NLD",
            "NOR",
            "POL",
            "PRT",
            "ROU",
            "SVK",
            "SVN",
            "SWE",
            "USA"
           ],
           "locationmode": "ISO-3",
           "locations": [
            "AUS",
            "AUT",
            "BEL",
            "BGR",
            "BRA",
            "CAN",
            "CHE",
            "COL",
            "CRI",
            "CYP",
            "CZE",
            "DEU",
            "DNK",
            "ESP",
            "EST",
            "FIN",
            "FRA",
            "GBR",
            "GRC",
            "HRV",
            "HUN",
            "IRL",
            "ISL",
            "ISR",
            "ITA",
            "JPN",
            "KOR",
            "LTU",
            "LUX",
            "LVA",
            "MEX",
            "MLT",
            "NLD",
            "NOR",
            "POL",
            "PRT",
            "ROU",
            "SVK",
            "SVN",
            "SWE",
            "USA"
           ],
           "name": "",
           "type": "choropleth",
           "z": [
            622.908,
            642.378,
            592.17,
            625.801,
            250.063,
            849.457,
            687.401,
            177.532,
            110.724,
            440.257,
            509.941,
            850.084,
            332.76,
            510.509,
            386.474,
            515.952,
            705.241,
            474.684,
            647.113,
            380.543,
            554.629,
            589.555,
            450.201,
            333.69,
            594.489,
            806.324,
            574.407,
            535.543,
            570.39,
            459.41,
            252.536,
            622.204,
            398.395,
            476.049,
            419.371,
            436.34,
            367.124,
            521.065,
            521.07,
            512.816,
            1200.769
           ]
          }
         ],
         "name": "2017"
        },
        {
         "data": [
          {
           "coloraxis": "coloraxis",
           "geo": "geo",
           "hovertemplate": "<b>%{hovertext}</b><br><br>TIME=2018<br>LOCATION=%{location}<br>Pharma Spending Per Capita (USD)=%{z}<extra></extra>",
           "hovertext": [
            "AUS",
            "AUT",
            "BEL",
            "BGR",
            "BRA",
            "CAN",
            "CHE",
            "CRI",
            "CYP",
            "CZE",
            "DEU",
            "DNK",
            "ESP",
            "EST",
            "FIN",
            "FRA",
            "GBR",
            "GRC",
            "HRV",
            "HUN",
            "IRL",
            "ISL",
            "ISR",
            "ITA",
            "JPN",
            "KOR",
            "LTU",
            "LUX",
            "LVA",
            "MEX",
            "MLT",
            "NLD",
            "NOR",
            "POL",
            "PRT",
            "ROU",
            "SVK",
            "SVN",
            "SWE",
            "USA"
           ],
           "locationmode": "ISO-3",
           "locations": [
            "AUS",
            "AUT",
            "BEL",
            "BGR",
            "BRA",
            "CAN",
            "CHE",
            "CRI",
            "CYP",
            "CZE",
            "DEU",
            "DNK",
            "ESP",
            "EST",
            "FIN",
            "FRA",
            "GBR",
            "GRC",
            "HRV",
            "HUN",
            "IRL",
            "ISL",
            "ISR",
            "ITA",
            "JPN",
            "KOR",
            "LTU",
            "LUX",
            "LVA",
            "MEX",
            "MLT",
            "NLD",
            "NOR",
            "POL",
            "PRT",
            "ROU",
            "SVK",
            "SVN",
            "SWE",
            "USA"
           ],
           "name": "",
           "type": "choropleth",
           "z": [
            619.256,
            659.52,
            601.265,
            625.647,
            261.617,
            850.075,
            703.786,
            143.799,
            474.21,
            510.498,
            891.861,
            341.553,
            521.52,
            410.725,
            536.801,
            698.524,
            471.311,
            632.89,
            385.931,
            563.842,
            593.089,
            455.714,
            364.146,
            625.637,
            810.493,
            618.331,
            528.595,
            596.77,
            492.906,
            254.189,
            633.735,
            404.562,
            474.604,
            438.06,
            459.974,
            409.492,
            512.545,
            546.854,
            537.282,
            1229.266
           ]
          }
         ],
         "name": "2018"
        },
        {
         "data": [
          {
           "coloraxis": "coloraxis",
           "geo": "geo",
           "hovertemplate": "<b>%{hovertext}</b><br><br>TIME=2019<br>LOCATION=%{location}<br>Pharma Spending Per Capita (USD)=%{z}<extra></extra>",
           "hovertext": [
            "AUS",
            "AUT",
            "BEL",
            "BGR",
            "BRA",
            "CAN",
            "CHE",
            "CHL",
            "CRI",
            "CYP",
            "CZE",
            "DEU",
            "DNK",
            "ESP",
            "EST",
            "FIN",
            "FRA",
            "GBR",
            "GRC",
            "HRV",
            "HUN",
            "IRL",
            "ISL",
            "ISR",
            "ITA",
            "JPN",
            "KOR",
            "LTU",
            "LUX",
            "LVA",
            "MEX",
            "MLT",
            "NLD",
            "NOR",
            "POL",
            "PRT",
            "ROU",
            "SVK",
            "SVN",
            "SWE",
            "USA"
           ],
           "locationmode": "ISO-3",
           "locations": [
            "AUS",
            "AUT",
            "BEL",
            "BGR",
            "BRA",
            "CAN",
            "CHE",
            "CHL",
            "CRI",
            "CYP",
            "CZE",
            "DEU",
            "DNK",
            "ESP",
            "EST",
            "FIN",
            "FRA",
            "GBR",
            "GRC",
            "HRV",
            "HUN",
            "IRL",
            "ISL",
            "ISR",
            "ITA",
            "JPN",
            "KOR",
            "LTU",
            "LUX",
            "LVA",
            "MEX",
            "MLT",
            "NLD",
            "NOR",
            "POL",
            "PRT",
            "ROU",
            "SVK",
            "SVN",
            "SWE",
            "USA"
           ],
           "name": "",
           "type": "choropleth",
           "z": [
            617.729,
            665.852,
            613.639,
            616.927,
            272.831,
            827.573,
            716.538,
            320.69,
            141.242,
            431.324,
            516.51,
            880.199,
            353.819,
            520.4,
            407.201,
            541.881,
            696.842,
            481.75,
            666.093,
            413.623,
            574.811,
            572.237,
            478.53,
            360.875,
            651.265,
            954.452,
            641.797,
            602.343,
            570.325,
            479.593,
            247.519,
            817.212,
            411.939,
            453.009,
            439.759,
            476.286,
            475.315,
            516.996,
            559.466,
            517.451,
            1277.032
           ]
          }
         ],
         "name": "2019"
        },
        {
         "data": [
          {
           "coloraxis": "coloraxis",
           "geo": "geo",
           "hovertemplate": "<b>%{hovertext}</b><br><br>TIME=2020<br>LOCATION=%{location}<br>Pharma Spending Per Capita (USD)=%{z}<extra></extra>",
           "hovertext": [
            "AUS",
            "AUT",
            "BEL",
            "BGR",
            "CAN",
            "CHE",
            "CHL",
            "CRI",
            "CYP",
            "CZE",
            "DEU",
            "DNK",
            "ESP",
            "EST",
            "FIN",
            "FRA",
            "GBR",
            "GRC",
            "HRV",
            "HUN",
            "IRL",
            "ISL",
            "ISR",
            "ITA",
            "JPN",
            "KOR",
            "LTU",
            "LUX",
            "LVA",
            "MEX",
            "MLT",
            "NLD",
            "NOR",
            "POL",
            "PRT",
            "ROU",
            "SVK",
            "SVN",
            "SWE",
            "USA"
           ],
           "locationmode": "ISO-3",
           "locations": [
            "AUS",
            "AUT",
            "BEL",
            "BGR",
            "CAN",
            "CHE",
            "CHL",
            "CRI",
            "CYP",
            "CZE",
            "DEU",
            "DNK",
            "ESP",
            "EST",
            "FIN",
            "FRA",
            "GBR",
            "GRC",
            "HRV",
            "HUN",
            "IRL",
            "ISL",
            "ISR",
            "ITA",
            "JPN",
            "KOR",
            "LTU",
            "LUX",
            "LVA",
            "MEX",
            "MLT",
            "NLD",
            "NOR",
            "POL",
            "PRT",
            "ROU",
            "SVK",
            "SVN",
            "SWE",
            "USA"
           ],
           "name": "",
           "type": "choropleth",
           "z": [
            680.868,
            711.325,
            615.681,
            692.585,
            836.93,
            761.87,
            298.149,
            133.065,
            440.737,
            579.669,
            947.679,
            372.045,
            560.405,
            421.946,
            567.335,
            743.835,
            528.752,
            750.761,
            450.481,
            621.505,
            611.829,
            529.272,
            451.622,
            662.612,
            835.93,
            722.445,
            622.44,
            610.829,
            509.939,
            263.922,
            947.614,
            426.507,
            472.666,
            451.159,
            524.715,
            508.626,
            504.235,
            599.589,
            554.039,
            1315.218
           ]
          }
         ],
         "name": "2020"
        },
        {
         "data": [
          {
           "coloraxis": "coloraxis",
           "geo": "geo",
           "hovertemplate": "<b>%{hovertext}</b><br><br>TIME=2021<br>LOCATION=%{location}<br>Pharma Spending Per Capita (USD)=%{z}<extra></extra>",
           "hovertext": [
            "AUT",
            "BEL",
            "BGR",
            "CAN",
            "CHE",
            "CHL",
            "CRI",
            "CYP",
            "CZE",
            "DEU",
            "DNK",
            "ESP",
            "EST",
            "FIN",
            "FRA",
            "GBR",
            "GRC",
            "HRV",
            "HUN",
            "IRL",
            "ISL",
            "ITA",
            "KOR",
            "LTU",
            "LUX",
            "LVA",
            "MEX",
            "NLD",
            "NOR",
            "POL",
            "PRT",
            "ROU",
            "SVK",
            "SVN",
            "SWE",
            "USA"
           ],
           "locationmode": "ISO-3",
           "locations": [
            "AUT",
            "BEL",
            "BGR",
            "CAN",
            "CHE",
            "CHL",
            "CRI",
            "CYP",
            "CZE",
            "DEU",
            "DNK",
            "ESP",
            "EST",
            "FIN",
            "FRA",
            "GBR",
            "GRC",
            "HRV",
            "HUN",
            "IRL",
            "ISL",
            "ITA",
            "KOR",
            "LTU",
            "LUX",
            "LVA",
            "MEX",
            "NLD",
            "NOR",
            "POL",
            "PRT",
            "ROU",
            "SVK",
            "SVN",
            "SWE",
            "USA"
           ],
           "name": "",
           "type": "choropleth",
           "z": [
            764.767,
            649.344,
            758.71,
            865.337,
            803.203,
            328.995,
            142.363,
            578.65,
            574.76,
            1042.46,
            372.623,
            594.795,
            451.763,
            591.864,
            765.575,
            517.288,
            740.123,
            469.013,
            632.293,
            625.365,
            604.981,
            691.708,
            740.501,
            654.752,
            683.994,
            523.942,
            279.02,
            456.017,
            513.409,
            479.358,
            558.506,
            569.563,
            530.716,
            644.19,
            576.078,
            1432.309
           ]
          }
         ],
         "name": "2021"
        },
        {
         "data": [
          {
           "coloraxis": "coloraxis",
           "geo": "geo",
           "hovertemplate": "<b>%{hovertext}</b><br><br>TIME=1970<br>LOCATION=%{location}<br>Pharma Spending Per Capita (USD)=%{z}<extra></extra>",
           "hovertext": [
            "BEL",
            "CAN",
            "DEU",
            "FIN",
            "FRA",
            "GBR",
            "ISL",
            "KOR",
            "NOR",
            "PRT",
            "SWE"
           ],
           "locationmode": "ISO-3",
           "locations": [
            "BEL",
            "CAN",
            "DEU",
            "FIN",
            "FRA",
            "GBR",
            "ISL",
            "KOR",
            "NOR",
            "PRT",
            "SWE"
           ],
           "name": "",
           "type": "choropleth",
           "z": [
            42.05,
            32.684,
            42.897,
            20.985,
            46.908,
            19.614,
            28.437,
            3.976,
            13.208,
            6.345,
            20.855
           ]
          }
         ],
         "name": "1970"
        },
        {
         "data": [
          {
           "coloraxis": "coloraxis",
           "geo": "geo",
           "hovertemplate": "<b>%{hovertext}</b><br><br>TIME=2022<br>LOCATION=%{location}<br>Pharma Spending Per Capita (USD)=%{z}<extra></extra>",
           "hovertext": [
            "CAN",
            "DNK",
            "ISL",
            "ITA",
            "KOR",
            "LUX",
            "NLD"
           ],
           "locationmode": "ISO-3",
           "locations": [
            "CAN",
            "DNK",
            "ISL",
            "ITA",
            "KOR",
            "LUX",
            "NLD"
           ],
           "name": "",
           "type": "choropleth",
           "z": [
            914.325,
            401.686,
            632.479,
            748.081,
            803.251,
            706.372,
            472.093
           ]
          }
         ],
         "name": "2022"
        }
       ],
       "layout": {
        "coloraxis": {
         "colorbar": {
          "title": {
           "text": "Pharma Spending Per Capita (USD)"
          }
         },
         "colorscale": [
          [
           0,
           "rgb(247,251,255)"
          ],
          [
           0.125,
           "rgb(222,235,247)"
          ],
          [
           0.25,
           "rgb(198,219,239)"
          ],
          [
           0.375,
           "rgb(158,202,225)"
          ],
          [
           0.5,
           "rgb(107,174,214)"
          ],
          [
           0.625,
           "rgb(66,146,198)"
          ],
          [
           0.75,
           "rgb(33,113,181)"
          ],
          [
           0.875,
           "rgb(8,81,156)"
          ],
          [
           1,
           "rgb(8,48,107)"
          ]
         ]
        },
        "geo": {
         "center": {},
         "domain": {
          "x": [
           0,
           1
          ],
          "y": [
           0,
           1
          ]
         },
         "projection": {
          "type": "natural earth"
         }
        },
        "legend": {
         "tracegroupgap": 0
        },
        "sliders": [
         {
          "active": 0,
          "currentvalue": {
           "prefix": "TIME="
          },
          "len": 0.9,
          "pad": {
           "b": 10,
           "t": 60
          },
          "steps": [
           {
            "args": [
             [
              "1971"
             ],
             {
              "frame": {
               "duration": 0,
               "redraw": true
              },
              "fromcurrent": true,
              "mode": "immediate",
              "transition": {
               "duration": 0,
               "easing": "linear"
              }
             }
            ],
            "label": "1971",
            "method": "animate"
           },
           {
            "args": [
             [
              "1972"
             ],
             {
              "frame": {
               "duration": 0,
               "redraw": true
              },
              "fromcurrent": true,
              "mode": "immediate",
              "transition": {
               "duration": 0,
               "easing": "linear"
              }
             }
            ],
            "label": "1972",
            "method": "animate"
           },
           {
            "args": [
             [
              "1973"
             ],
             {
              "frame": {
               "duration": 0,
               "redraw": true
              },
              "fromcurrent": true,
              "mode": "immediate",
              "transition": {
               "duration": 0,
               "easing": "linear"
              }
             }
            ],
            "label": "1973",
            "method": "animate"
           },
           {
            "args": [
             [
              "1974"
             ],
             {
              "frame": {
               "duration": 0,
               "redraw": true
              },
              "fromcurrent": true,
              "mode": "immediate",
              "transition": {
               "duration": 0,
               "easing": "linear"
              }
             }
            ],
            "label": "1974",
            "method": "animate"
           },
           {
            "args": [
             [
              "1975"
             ],
             {
              "frame": {
               "duration": 0,
               "redraw": true
              },
              "fromcurrent": true,
              "mode": "immediate",
              "transition": {
               "duration": 0,
               "easing": "linear"
              }
             }
            ],
            "label": "1975",
            "method": "animate"
           },
           {
            "args": [
             [
              "1976"
             ],
             {
              "frame": {
               "duration": 0,
               "redraw": true
              },
              "fromcurrent": true,
              "mode": "immediate",
              "transition": {
               "duration": 0,
               "easing": "linear"
              }
             }
            ],
            "label": "1976",
            "method": "animate"
           },
           {
            "args": [
             [
              "1977"
             ],
             {
              "frame": {
               "duration": 0,
               "redraw": true
              },
              "fromcurrent": true,
              "mode": "immediate",
              "transition": {
               "duration": 0,
               "easing": "linear"
              }
             }
            ],
            "label": "1977",
            "method": "animate"
           },
           {
            "args": [
             [
              "1978"
             ],
             {
              "frame": {
               "duration": 0,
               "redraw": true
              },
              "fromcurrent": true,
              "mode": "immediate",
              "transition": {
               "duration": 0,
               "easing": "linear"
              }
             }
            ],
            "label": "1978",
            "method": "animate"
           },
           {
            "args": [
             [
              "1979"
             ],
             {
              "frame": {
               "duration": 0,
               "redraw": true
              },
              "fromcurrent": true,
              "mode": "immediate",
              "transition": {
               "duration": 0,
               "easing": "linear"
              }
             }
            ],
            "label": "1979",
            "method": "animate"
           },
           {
            "args": [
             [
              "1980"
             ],
             {
              "frame": {
               "duration": 0,
               "redraw": true
              },
              "fromcurrent": true,
              "mode": "immediate",
              "transition": {
               "duration": 0,
               "easing": "linear"
              }
             }
            ],
            "label": "1980",
            "method": "animate"
           },
           {
            "args": [
             [
              "1981"
             ],
             {
              "frame": {
               "duration": 0,
               "redraw": true
              },
              "fromcurrent": true,
              "mode": "immediate",
              "transition": {
               "duration": 0,
               "easing": "linear"
              }
             }
            ],
            "label": "1981",
            "method": "animate"
           },
           {
            "args": [
             [
              "1982"
             ],
             {
              "frame": {
               "duration": 0,
               "redraw": true
              },
              "fromcurrent": true,
              "mode": "immediate",
              "transition": {
               "duration": 0,
               "easing": "linear"
              }
             }
            ],
            "label": "1982",
            "method": "animate"
           },
           {
            "args": [
             [
              "1983"
             ],
             {
              "frame": {
               "duration": 0,
               "redraw": true
              },
              "fromcurrent": true,
              "mode": "immediate",
              "transition": {
               "duration": 0,
               "easing": "linear"
              }
             }
            ],
            "label": "1983",
            "method": "animate"
           },
           {
            "args": [
             [
              "1984"
             ],
             {
              "frame": {
               "duration": 0,
               "redraw": true
              },
              "fromcurrent": true,
              "mode": "immediate",
              "transition": {
               "duration": 0,
               "easing": "linear"
              }
             }
            ],
            "label": "1984",
            "method": "animate"
           },
           {
            "args": [
             [
              "1985"
             ],
             {
              "frame": {
               "duration": 0,
               "redraw": true
              },
              "fromcurrent": true,
              "mode": "immediate",
              "transition": {
               "duration": 0,
               "easing": "linear"
              }
             }
            ],
            "label": "1985",
            "method": "animate"
           },
           {
            "args": [
             [
              "1986"
             ],
             {
              "frame": {
               "duration": 0,
               "redraw": true
              },
              "fromcurrent": true,
              "mode": "immediate",
              "transition": {
               "duration": 0,
               "easing": "linear"
              }
             }
            ],
            "label": "1986",
            "method": "animate"
           },
           {
            "args": [
             [
              "1987"
             ],
             {
              "frame": {
               "duration": 0,
               "redraw": true
              },
              "fromcurrent": true,
              "mode": "immediate",
              "transition": {
               "duration": 0,
               "easing": "linear"
              }
             }
            ],
            "label": "1987",
            "method": "animate"
           },
           {
            "args": [
             [
              "1988"
             ],
             {
              "frame": {
               "duration": 0,
               "redraw": true
              },
              "fromcurrent": true,
              "mode": "immediate",
              "transition": {
               "duration": 0,
               "easing": "linear"
              }
             }
            ],
            "label": "1988",
            "method": "animate"
           },
           {
            "args": [
             [
              "1989"
             ],
             {
              "frame": {
               "duration": 0,
               "redraw": true
              },
              "fromcurrent": true,
              "mode": "immediate",
              "transition": {
               "duration": 0,
               "easing": "linear"
              }
             }
            ],
            "label": "1989",
            "method": "animate"
           },
           {
            "args": [
             [
              "1990"
             ],
             {
              "frame": {
               "duration": 0,
               "redraw": true
              },
              "fromcurrent": true,
              "mode": "immediate",
              "transition": {
               "duration": 0,
               "easing": "linear"
              }
             }
            ],
            "label": "1990",
            "method": "animate"
           },
           {
            "args": [
             [
              "1991"
             ],
             {
              "frame": {
               "duration": 0,
               "redraw": true
              },
              "fromcurrent": true,
              "mode": "immediate",
              "transition": {
               "duration": 0,
               "easing": "linear"
              }
             }
            ],
            "label": "1991",
            "method": "animate"
           },
           {
            "args": [
             [
              "1992"
             ],
             {
              "frame": {
               "duration": 0,
               "redraw": true
              },
              "fromcurrent": true,
              "mode": "immediate",
              "transition": {
               "duration": 0,
               "easing": "linear"
              }
             }
            ],
            "label": "1992",
            "method": "animate"
           },
           {
            "args": [
             [
              "1993"
             ],
             {
              "frame": {
               "duration": 0,
               "redraw": true
              },
              "fromcurrent": true,
              "mode": "immediate",
              "transition": {
               "duration": 0,
               "easing": "linear"
              }
             }
            ],
            "label": "1993",
            "method": "animate"
           },
           {
            "args": [
             [
              "1994"
             ],
             {
              "frame": {
               "duration": 0,
               "redraw": true
              },
              "fromcurrent": true,
              "mode": "immediate",
              "transition": {
               "duration": 0,
               "easing": "linear"
              }
             }
            ],
            "label": "1994",
            "method": "animate"
           },
           {
            "args": [
             [
              "1995"
             ],
             {
              "frame": {
               "duration": 0,
               "redraw": true
              },
              "fromcurrent": true,
              "mode": "immediate",
              "transition": {
               "duration": 0,
               "easing": "linear"
              }
             }
            ],
            "label": "1995",
            "method": "animate"
           },
           {
            "args": [
             [
              "1996"
             ],
             {
              "frame": {
               "duration": 0,
               "redraw": true
              },
              "fromcurrent": true,
              "mode": "immediate",
              "transition": {
               "duration": 0,
               "easing": "linear"
              }
             }
            ],
            "label": "1996",
            "method": "animate"
           },
           {
            "args": [
             [
              "1997"
             ],
             {
              "frame": {
               "duration": 0,
               "redraw": true
              },
              "fromcurrent": true,
              "mode": "immediate",
              "transition": {
               "duration": 0,
               "easing": "linear"
              }
             }
            ],
            "label": "1997",
            "method": "animate"
           },
           {
            "args": [
             [
              "1998"
             ],
             {
              "frame": {
               "duration": 0,
               "redraw": true
              },
              "fromcurrent": true,
              "mode": "immediate",
              "transition": {
               "duration": 0,
               "easing": "linear"
              }
             }
            ],
            "label": "1998",
            "method": "animate"
           },
           {
            "args": [
             [
              "1999"
             ],
             {
              "frame": {
               "duration": 0,
               "redraw": true
              },
              "fromcurrent": true,
              "mode": "immediate",
              "transition": {
               "duration": 0,
               "easing": "linear"
              }
             }
            ],
            "label": "1999",
            "method": "animate"
           },
           {
            "args": [
             [
              "2000"
             ],
             {
              "frame": {
               "duration": 0,
               "redraw": true
              },
              "fromcurrent": true,
              "mode": "immediate",
              "transition": {
               "duration": 0,
               "easing": "linear"
              }
             }
            ],
            "label": "2000",
            "method": "animate"
           },
           {
            "args": [
             [
              "2001"
             ],
             {
              "frame": {
               "duration": 0,
               "redraw": true
              },
              "fromcurrent": true,
              "mode": "immediate",
              "transition": {
               "duration": 0,
               "easing": "linear"
              }
             }
            ],
            "label": "2001",
            "method": "animate"
           },
           {
            "args": [
             [
              "2002"
             ],
             {
              "frame": {
               "duration": 0,
               "redraw": true
              },
              "fromcurrent": true,
              "mode": "immediate",
              "transition": {
               "duration": 0,
               "easing": "linear"
              }
             }
            ],
            "label": "2002",
            "method": "animate"
           },
           {
            "args": [
             [
              "2003"
             ],
             {
              "frame": {
               "duration": 0,
               "redraw": true
              },
              "fromcurrent": true,
              "mode": "immediate",
              "transition": {
               "duration": 0,
               "easing": "linear"
              }
             }
            ],
            "label": "2003",
            "method": "animate"
           },
           {
            "args": [
             [
              "2004"
             ],
             {
              "frame": {
               "duration": 0,
               "redraw": true
              },
              "fromcurrent": true,
              "mode": "immediate",
              "transition": {
               "duration": 0,
               "easing": "linear"
              }
             }
            ],
            "label": "2004",
            "method": "animate"
           },
           {
            "args": [
             [
              "2005"
             ],
             {
              "frame": {
               "duration": 0,
               "redraw": true
              },
              "fromcurrent": true,
              "mode": "immediate",
              "transition": {
               "duration": 0,
               "easing": "linear"
              }
             }
            ],
            "label": "2005",
            "method": "animate"
           },
           {
            "args": [
             [
              "2006"
             ],
             {
              "frame": {
               "duration": 0,
               "redraw": true
              },
              "fromcurrent": true,
              "mode": "immediate",
              "transition": {
               "duration": 0,
               "easing": "linear"
              }
             }
            ],
            "label": "2006",
            "method": "animate"
           },
           {
            "args": [
             [
              "2007"
             ],
             {
              "frame": {
               "duration": 0,
               "redraw": true
              },
              "fromcurrent": true,
              "mode": "immediate",
              "transition": {
               "duration": 0,
               "easing": "linear"
              }
             }
            ],
            "label": "2007",
            "method": "animate"
           },
           {
            "args": [
             [
              "2008"
             ],
             {
              "frame": {
               "duration": 0,
               "redraw": true
              },
              "fromcurrent": true,
              "mode": "immediate",
              "transition": {
               "duration": 0,
               "easing": "linear"
              }
             }
            ],
            "label": "2008",
            "method": "animate"
           },
           {
            "args": [
             [
              "2009"
             ],
             {
              "frame": {
               "duration": 0,
               "redraw": true
              },
              "fromcurrent": true,
              "mode": "immediate",
              "transition": {
               "duration": 0,
               "easing": "linear"
              }
             }
            ],
            "label": "2009",
            "method": "animate"
           },
           {
            "args": [
             [
              "2010"
             ],
             {
              "frame": {
               "duration": 0,
               "redraw": true
              },
              "fromcurrent": true,
              "mode": "immediate",
              "transition": {
               "duration": 0,
               "easing": "linear"
              }
             }
            ],
            "label": "2010",
            "method": "animate"
           },
           {
            "args": [
             [
              "2011"
             ],
             {
              "frame": {
               "duration": 0,
               "redraw": true
              },
              "fromcurrent": true,
              "mode": "immediate",
              "transition": {
               "duration": 0,
               "easing": "linear"
              }
             }
            ],
            "label": "2011",
            "method": "animate"
           },
           {
            "args": [
             [
              "2012"
             ],
             {
              "frame": {
               "duration": 0,
               "redraw": true
              },
              "fromcurrent": true,
              "mode": "immediate",
              "transition": {
               "duration": 0,
               "easing": "linear"
              }
             }
            ],
            "label": "2012",
            "method": "animate"
           },
           {
            "args": [
             [
              "2013"
             ],
             {
              "frame": {
               "duration": 0,
               "redraw": true
              },
              "fromcurrent": true,
              "mode": "immediate",
              "transition": {
               "duration": 0,
               "easing": "linear"
              }
             }
            ],
            "label": "2013",
            "method": "animate"
           },
           {
            "args": [
             [
              "2014"
             ],
             {
              "frame": {
               "duration": 0,
               "redraw": true
              },
              "fromcurrent": true,
              "mode": "immediate",
              "transition": {
               "duration": 0,
               "easing": "linear"
              }
             }
            ],
            "label": "2014",
            "method": "animate"
           },
           {
            "args": [
             [
              "2015"
             ],
             {
              "frame": {
               "duration": 0,
               "redraw": true
              },
              "fromcurrent": true,
              "mode": "immediate",
              "transition": {
               "duration": 0,
               "easing": "linear"
              }
             }
            ],
            "label": "2015",
            "method": "animate"
           },
           {
            "args": [
             [
              "2016"
             ],
             {
              "frame": {
               "duration": 0,
               "redraw": true
              },
              "fromcurrent": true,
              "mode": "immediate",
              "transition": {
               "duration": 0,
               "easing": "linear"
              }
             }
            ],
            "label": "2016",
            "method": "animate"
           },
           {
            "args": [
             [
              "2017"
             ],
             {
              "frame": {
               "duration": 0,
               "redraw": true
              },
              "fromcurrent": true,
              "mode": "immediate",
              "transition": {
               "duration": 0,
               "easing": "linear"
              }
             }
            ],
            "label": "2017",
            "method": "animate"
           },
           {
            "args": [
             [
              "2018"
             ],
             {
              "frame": {
               "duration": 0,
               "redraw": true
              },
              "fromcurrent": true,
              "mode": "immediate",
              "transition": {
               "duration": 0,
               "easing": "linear"
              }
             }
            ],
            "label": "2018",
            "method": "animate"
           },
           {
            "args": [
             [
              "2019"
             ],
             {
              "frame": {
               "duration": 0,
               "redraw": true
              },
              "fromcurrent": true,
              "mode": "immediate",
              "transition": {
               "duration": 0,
               "easing": "linear"
              }
             }
            ],
            "label": "2019",
            "method": "animate"
           },
           {
            "args": [
             [
              "2020"
             ],
             {
              "frame": {
               "duration": 0,
               "redraw": true
              },
              "fromcurrent": true,
              "mode": "immediate",
              "transition": {
               "duration": 0,
               "easing": "linear"
              }
             }
            ],
            "label": "2020",
            "method": "animate"
           },
           {
            "args": [
             [
              "2021"
             ],
             {
              "frame": {
               "duration": 0,
               "redraw": true
              },
              "fromcurrent": true,
              "mode": "immediate",
              "transition": {
               "duration": 0,
               "easing": "linear"
              }
             }
            ],
            "label": "2021",
            "method": "animate"
           },
           {
            "args": [
             [
              "1970"
             ],
             {
              "frame": {
               "duration": 0,
               "redraw": true
              },
              "fromcurrent": true,
              "mode": "immediate",
              "transition": {
               "duration": 0,
               "easing": "linear"
              }
             }
            ],
            "label": "1970",
            "method": "animate"
           },
           {
            "args": [
             [
              "2022"
             ],
             {
              "frame": {
               "duration": 0,
               "redraw": true
              },
              "fromcurrent": true,
              "mode": "immediate",
              "transition": {
               "duration": 0,
               "easing": "linear"
              }
             }
            ],
            "label": "2022",
            "method": "animate"
           }
          ],
          "x": 0.1,
          "xanchor": "left",
          "y": 0,
          "yanchor": "top"
         }
        ],
        "template": {
         "data": {
          "bar": [
           {
            "error_x": {
             "color": "#2a3f5f"
            },
            "error_y": {
             "color": "#2a3f5f"
            },
            "marker": {
             "line": {
              "color": "#E5ECF6",
              "width": 0.5
             },
             "pattern": {
              "fillmode": "overlay",
              "size": 10,
              "solidity": 0.2
             }
            },
            "type": "bar"
           }
          ],
          "barpolar": [
           {
            "marker": {
             "line": {
              "color": "#E5ECF6",
              "width": 0.5
             },
             "pattern": {
              "fillmode": "overlay",
              "size": 10,
              "solidity": 0.2
             }
            },
            "type": "barpolar"
           }
          ],
          "carpet": [
           {
            "aaxis": {
             "endlinecolor": "#2a3f5f",
             "gridcolor": "white",
             "linecolor": "white",
             "minorgridcolor": "white",
             "startlinecolor": "#2a3f5f"
            },
            "baxis": {
             "endlinecolor": "#2a3f5f",
             "gridcolor": "white",
             "linecolor": "white",
             "minorgridcolor": "white",
             "startlinecolor": "#2a3f5f"
            },
            "type": "carpet"
           }
          ],
          "choropleth": [
           {
            "colorbar": {
             "outlinewidth": 0,
             "ticks": ""
            },
            "type": "choropleth"
           }
          ],
          "contour": [
           {
            "colorbar": {
             "outlinewidth": 0,
             "ticks": ""
            },
            "colorscale": [
             [
              0,
              "#0d0887"
             ],
             [
              0.1111111111111111,
              "#46039f"
             ],
             [
              0.2222222222222222,
              "#7201a8"
             ],
             [
              0.3333333333333333,
              "#9c179e"
             ],
             [
              0.4444444444444444,
              "#bd3786"
             ],
             [
              0.5555555555555556,
              "#d8576b"
             ],
             [
              0.6666666666666666,
              "#ed7953"
             ],
             [
              0.7777777777777778,
              "#fb9f3a"
             ],
             [
              0.8888888888888888,
              "#fdca26"
             ],
             [
              1,
              "#f0f921"
             ]
            ],
            "type": "contour"
           }
          ],
          "contourcarpet": [
           {
            "colorbar": {
             "outlinewidth": 0,
             "ticks": ""
            },
            "type": "contourcarpet"
           }
          ],
          "heatmap": [
           {
            "colorbar": {
             "outlinewidth": 0,
             "ticks": ""
            },
            "colorscale": [
             [
              0,
              "#0d0887"
             ],
             [
              0.1111111111111111,
              "#46039f"
             ],
             [
              0.2222222222222222,
              "#7201a8"
             ],
             [
              0.3333333333333333,
              "#9c179e"
             ],
             [
              0.4444444444444444,
              "#bd3786"
             ],
             [
              0.5555555555555556,
              "#d8576b"
             ],
             [
              0.6666666666666666,
              "#ed7953"
             ],
             [
              0.7777777777777778,
              "#fb9f3a"
             ],
             [
              0.8888888888888888,
              "#fdca26"
             ],
             [
              1,
              "#f0f921"
             ]
            ],
            "type": "heatmap"
           }
          ],
          "heatmapgl": [
           {
            "colorbar": {
             "outlinewidth": 0,
             "ticks": ""
            },
            "colorscale": [
             [
              0,
              "#0d0887"
             ],
             [
              0.1111111111111111,
              "#46039f"
             ],
             [
              0.2222222222222222,
              "#7201a8"
             ],
             [
              0.3333333333333333,
              "#9c179e"
             ],
             [
              0.4444444444444444,
              "#bd3786"
             ],
             [
              0.5555555555555556,
              "#d8576b"
             ],
             [
              0.6666666666666666,
              "#ed7953"
             ],
             [
              0.7777777777777778,
              "#fb9f3a"
             ],
             [
              0.8888888888888888,
              "#fdca26"
             ],
             [
              1,
              "#f0f921"
             ]
            ],
            "type": "heatmapgl"
           }
          ],
          "histogram": [
           {
            "marker": {
             "pattern": {
              "fillmode": "overlay",
              "size": 10,
              "solidity": 0.2
             }
            },
            "type": "histogram"
           }
          ],
          "histogram2d": [
           {
            "colorbar": {
             "outlinewidth": 0,
             "ticks": ""
            },
            "colorscale": [
             [
              0,
              "#0d0887"
             ],
             [
              0.1111111111111111,
              "#46039f"
             ],
             [
              0.2222222222222222,
              "#7201a8"
             ],
             [
              0.3333333333333333,
              "#9c179e"
             ],
             [
              0.4444444444444444,
              "#bd3786"
             ],
             [
              0.5555555555555556,
              "#d8576b"
             ],
             [
              0.6666666666666666,
              "#ed7953"
             ],
             [
              0.7777777777777778,
              "#fb9f3a"
             ],
             [
              0.8888888888888888,
              "#fdca26"
             ],
             [
              1,
              "#f0f921"
             ]
            ],
            "type": "histogram2d"
           }
          ],
          "histogram2dcontour": [
           {
            "colorbar": {
             "outlinewidth": 0,
             "ticks": ""
            },
            "colorscale": [
             [
              0,
              "#0d0887"
             ],
             [
              0.1111111111111111,
              "#46039f"
             ],
             [
              0.2222222222222222,
              "#7201a8"
             ],
             [
              0.3333333333333333,
              "#9c179e"
             ],
             [
              0.4444444444444444,
              "#bd3786"
             ],
             [
              0.5555555555555556,
              "#d8576b"
             ],
             [
              0.6666666666666666,
              "#ed7953"
             ],
             [
              0.7777777777777778,
              "#fb9f3a"
             ],
             [
              0.8888888888888888,
              "#fdca26"
             ],
             [
              1,
              "#f0f921"
             ]
            ],
            "type": "histogram2dcontour"
           }
          ],
          "mesh3d": [
           {
            "colorbar": {
             "outlinewidth": 0,
             "ticks": ""
            },
            "type": "mesh3d"
           }
          ],
          "parcoords": [
           {
            "line": {
             "colorbar": {
              "outlinewidth": 0,
              "ticks": ""
             }
            },
            "type": "parcoords"
           }
          ],
          "pie": [
           {
            "automargin": true,
            "type": "pie"
           }
          ],
          "scatter": [
           {
            "fillpattern": {
             "fillmode": "overlay",
             "size": 10,
             "solidity": 0.2
            },
            "type": "scatter"
           }
          ],
          "scatter3d": [
           {
            "line": {
             "colorbar": {
              "outlinewidth": 0,
              "ticks": ""
             }
            },
            "marker": {
             "colorbar": {
              "outlinewidth": 0,
              "ticks": ""
             }
            },
            "type": "scatter3d"
           }
          ],
          "scattercarpet": [
           {
            "marker": {
             "colorbar": {
              "outlinewidth": 0,
              "ticks": ""
             }
            },
            "type": "scattercarpet"
           }
          ],
          "scattergeo": [
           {
            "marker": {
             "colorbar": {
              "outlinewidth": 0,
              "ticks": ""
             }
            },
            "type": "scattergeo"
           }
          ],
          "scattergl": [
           {
            "marker": {
             "colorbar": {
              "outlinewidth": 0,
              "ticks": ""
             }
            },
            "type": "scattergl"
           }
          ],
          "scattermapbox": [
           {
            "marker": {
             "colorbar": {
              "outlinewidth": 0,
              "ticks": ""
             }
            },
            "type": "scattermapbox"
           }
          ],
          "scatterpolar": [
           {
            "marker": {
             "colorbar": {
              "outlinewidth": 0,
              "ticks": ""
             }
            },
            "type": "scatterpolar"
           }
          ],
          "scatterpolargl": [
           {
            "marker": {
             "colorbar": {
              "outlinewidth": 0,
              "ticks": ""
             }
            },
            "type": "scatterpolargl"
           }
          ],
          "scatterternary": [
           {
            "marker": {
             "colorbar": {
              "outlinewidth": 0,
              "ticks": ""
             }
            },
            "type": "scatterternary"
           }
          ],
          "surface": [
           {
            "colorbar": {
             "outlinewidth": 0,
             "ticks": ""
            },
            "colorscale": [
             [
              0,
              "#0d0887"
             ],
             [
              0.1111111111111111,
              "#46039f"
             ],
             [
              0.2222222222222222,
              "#7201a8"
             ],
             [
              0.3333333333333333,
              "#9c179e"
             ],
             [
              0.4444444444444444,
              "#bd3786"
             ],
             [
              0.5555555555555556,
              "#d8576b"
             ],
             [
              0.6666666666666666,
              "#ed7953"
             ],
             [
              0.7777777777777778,
              "#fb9f3a"
             ],
             [
              0.8888888888888888,
              "#fdca26"
             ],
             [
              1,
              "#f0f921"
             ]
            ],
            "type": "surface"
           }
          ],
          "table": [
           {
            "cells": {
             "fill": {
              "color": "#EBF0F8"
             },
             "line": {
              "color": "white"
             }
            },
            "header": {
             "fill": {
              "color": "#C8D4E3"
             },
             "line": {
              "color": "white"
             }
            },
            "type": "table"
           }
          ]
         },
         "layout": {
          "annotationdefaults": {
           "arrowcolor": "#2a3f5f",
           "arrowhead": 0,
           "arrowwidth": 1
          },
          "autotypenumbers": "strict",
          "coloraxis": {
           "colorbar": {
            "outlinewidth": 0,
            "ticks": ""
           }
          },
          "colorscale": {
           "diverging": [
            [
             0,
             "#8e0152"
            ],
            [
             0.1,
             "#c51b7d"
            ],
            [
             0.2,
             "#de77ae"
            ],
            [
             0.3,
             "#f1b6da"
            ],
            [
             0.4,
             "#fde0ef"
            ],
            [
             0.5,
             "#f7f7f7"
            ],
            [
             0.6,
             "#e6f5d0"
            ],
            [
             0.7,
             "#b8e186"
            ],
            [
             0.8,
             "#7fbc41"
            ],
            [
             0.9,
             "#4d9221"
            ],
            [
             1,
             "#276419"
            ]
           ],
           "sequential": [
            [
             0,
             "#0d0887"
            ],
            [
             0.1111111111111111,
             "#46039f"
            ],
            [
             0.2222222222222222,
             "#7201a8"
            ],
            [
             0.3333333333333333,
             "#9c179e"
            ],
            [
             0.4444444444444444,
             "#bd3786"
            ],
            [
             0.5555555555555556,
             "#d8576b"
            ],
            [
             0.6666666666666666,
             "#ed7953"
            ],
            [
             0.7777777777777778,
             "#fb9f3a"
            ],
            [
             0.8888888888888888,
             "#fdca26"
            ],
            [
             1,
             "#f0f921"
            ]
           ],
           "sequentialminus": [
            [
             0,
             "#0d0887"
            ],
            [
             0.1111111111111111,
             "#46039f"
            ],
            [
             0.2222222222222222,
             "#7201a8"
            ],
            [
             0.3333333333333333,
             "#9c179e"
            ],
            [
             0.4444444444444444,
             "#bd3786"
            ],
            [
             0.5555555555555556,
             "#d8576b"
            ],
            [
             0.6666666666666666,
             "#ed7953"
            ],
            [
             0.7777777777777778,
             "#fb9f3a"
            ],
            [
             0.8888888888888888,
             "#fdca26"
            ],
            [
             1,
             "#f0f921"
            ]
           ]
          },
          "colorway": [
           "#636efa",
           "#EF553B",
           "#00cc96",
           "#ab63fa",
           "#FFA15A",
           "#19d3f3",
           "#FF6692",
           "#B6E880",
           "#FF97FF",
           "#FECB52"
          ],
          "font": {
           "color": "#2a3f5f"
          },
          "geo": {
           "bgcolor": "white",
           "lakecolor": "white",
           "landcolor": "#E5ECF6",
           "showlakes": true,
           "showland": true,
           "subunitcolor": "white"
          },
          "hoverlabel": {
           "align": "left"
          },
          "hovermode": "closest",
          "mapbox": {
           "style": "light"
          },
          "paper_bgcolor": "white",
          "plot_bgcolor": "#E5ECF6",
          "polar": {
           "angularaxis": {
            "gridcolor": "white",
            "linecolor": "white",
            "ticks": ""
           },
           "bgcolor": "#E5ECF6",
           "radialaxis": {
            "gridcolor": "white",
            "linecolor": "white",
            "ticks": ""
           }
          },
          "scene": {
           "xaxis": {
            "backgroundcolor": "#E5ECF6",
            "gridcolor": "white",
            "gridwidth": 2,
            "linecolor": "white",
            "showbackground": true,
            "ticks": "",
            "zerolinecolor": "white"
           },
           "yaxis": {
            "backgroundcolor": "#E5ECF6",
            "gridcolor": "white",
            "gridwidth": 2,
            "linecolor": "white",
            "showbackground": true,
            "ticks": "",
            "zerolinecolor": "white"
           },
           "zaxis": {
            "backgroundcolor": "#E5ECF6",
            "gridcolor": "white",
            "gridwidth": 2,
            "linecolor": "white",
            "showbackground": true,
            "ticks": "",
            "zerolinecolor": "white"
           }
          },
          "shapedefaults": {
           "line": {
            "color": "#2a3f5f"
           }
          },
          "ternary": {
           "aaxis": {
            "gridcolor": "white",
            "linecolor": "white",
            "ticks": ""
           },
           "baxis": {
            "gridcolor": "white",
            "linecolor": "white",
            "ticks": ""
           },
           "bgcolor": "#E5ECF6",
           "caxis": {
            "gridcolor": "white",
            "linecolor": "white",
            "ticks": ""
           }
          },
          "title": {
           "x": 0.05
          },
          "xaxis": {
           "automargin": true,
           "gridcolor": "white",
           "linecolor": "white",
           "ticks": "",
           "title": {
            "standoff": 15
           },
           "zerolinecolor": "white",
           "zerolinewidth": 2
          },
          "yaxis": {
           "automargin": true,
           "gridcolor": "white",
           "linecolor": "white",
           "ticks": "",
           "title": {
            "standoff": 15
           },
           "zerolinecolor": "white",
           "zerolinewidth": 2
          }
         }
        },
        "title": {
         "text": "Pharmaceutical Spending Per Capita (All Countries, All Years)"
        },
        "updatemenus": [
         {
          "buttons": [
           {
            "args": [
             null,
             {
              "frame": {
               "duration": 500,
               "redraw": true
              },
              "fromcurrent": true,
              "mode": "immediate",
              "transition": {
               "duration": 500,
               "easing": "linear"
              }
             }
            ],
            "label": "&#9654;",
            "method": "animate"
           },
           {
            "args": [
             [
              null
             ],
             {
              "frame": {
               "duration": 0,
               "redraw": true
              },
              "fromcurrent": true,
              "mode": "immediate",
              "transition": {
               "duration": 0,
               "easing": "linear"
              }
             }
            ],
            "label": "&#9724;",
            "method": "animate"
           }
          ],
          "direction": "left",
          "pad": {
           "r": 10,
           "t": 70
          },
          "showactive": false,
          "type": "buttons",
          "x": 0.1,
          "xanchor": "right",
          "y": 0,
          "yanchor": "top"
         }
        ]
       }
      }
     },
     "metadata": {},
     "output_type": "display_data"
    }
   ],
   "source": [
    "import pandas as pd\n",
    "import plotly.express as px\n",
    "\n",
    "# Load dataset (Ensure correct file path)\n",
    "file_path = r\"C:\\Users\\tianc\\dsihomework\\Team 2\\Team-2-Cohort-5\\Data\\flat-ui__data-Tue Mar 11 2025.csv\"\n",
    "df = pd.read_csv(file_path)\n",
    "\n",
    "# Convert country codes to uppercase to ensure compatibility\n",
    "df['LOCATION'] = df['LOCATION'].str.upper()\n",
    "\n",
    "# Ensure TIME is treated as an integer for animation\n",
    "df['TIME'] = df['TIME'].astype(int)\n",
    "\n",
    "# Create animated choropleth map for all countries and all years\n",
    "fig = px.choropleth(df,\n",
    "                    locations=\"LOCATION\",\n",
    "                    locationmode=\"ISO-3\",  # Ensure country codes are in ISO-3 format\n",
    "                    color=\"USD_CAP\",  # Pharmaceutical spending per capita\n",
    "                    hover_name=\"LOCATION\",\n",
    "                    animation_frame=\"TIME\",  # Year slider for all years\n",
    "                    color_continuous_scale=\"Blues\",\n",
    "                    title=\"Pharmaceutical Spending Per Capita (All Countries, All Years)\",\n",
    "                    labels={'USD_CAP': \"Pharma Spending Per Capita (USD)\"},\n",
    "                    projection=\"natural earth\")\n",
    "\n",
    "# Show the visualization\n",
    "fig.show()\n",
    "\n"
   ]
  },
  {
   "cell_type": "code",
   "execution_count": 21,
   "metadata": {},
   "outputs": [],
   "source": [
    "fig.write_html(\"pharma_spending_map.html\")\n"
   ]
  }
 ],
 "metadata": {
  "kernelspec": {
   "display_name": "dsi_participant",
   "language": "python",
   "name": "python3"
  },
  "language_info": {
   "codemirror_mode": {
    "name": "ipython",
    "version": 3
   },
   "file_extension": ".py",
   "mimetype": "text/x-python",
   "name": "python",
   "nbconvert_exporter": "python",
   "pygments_lexer": "ipython3",
   "version": "3.9.15"
  }
 },
 "nbformat": 4,
 "nbformat_minor": 2
}
